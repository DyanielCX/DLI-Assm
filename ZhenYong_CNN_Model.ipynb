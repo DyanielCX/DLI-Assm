{
  "cells": [
    {
      "cell_type": "code",
      "execution_count": 1,
      "metadata": {
        "id": "EV0hpy9osODc"
      },
      "outputs": [],
      "source": [
        "import os, random, numpy as np, tensorflow as tf\n",
        "import pandas as pd\n",
        "from sklearn.model_selection import train_test_split\n",
        "from sklearn.preprocessing import LabelEncoder\n",
        "from tensorflow.keras.utils import to_categorical\n",
        "from tensorflow.keras.preprocessing.text import Tokenizer\n",
        "from tensorflow.keras.models import Sequential\n",
        "from tensorflow.keras.layers import Dense, Dropout, Conv1D, GlobalMaxPooling1D, Embedding, Concatenate, Input\n",
        "from tensorflow.keras.preprocessing import sequence\n",
        "from sklearn.metrics import classification_report, confusion_matrix\n",
        "import time\n",
        "import matplotlib.pyplot as plt\n",
        "import seaborn as sns\n",
        "os.environ[\"PYTHONHASHSEED\"] = \"9\"\n",
        "random.seed(9)\n",
        "np.random.seed(9)\n",
        "tf.keras.utils.set_random_seed(9)\n",
        "from keras.models import Model\n",
        "from keras.layers import Input, Embedding, Conv1D, GlobalMaxPooling1D, Concatenate, Dense, Dropout\n",
        "from keras.preprocessing import sequence\n",
        "from keras.models import Model\n",
        "from sklearn.preprocessing import StandardScaler\n",
        "from tensorflow.keras.preprocessing.sequence import pad_sequences\n",
        "from sklearn.svm import LinearSVC\n",
        "from sklearn.metrics import accuracy_score, classification_report, confusion_matrix\n",
        "from sklearn.calibration import CalibratedClassifierCV\n",
        "from sklearn.linear_model import LogisticRegression\n",
        "from sklearn.metrics import f1_score, roc_auc_score, average_precision_score, roc_curve, precision_recall_curve"
      ]
    },
    {
      "cell_type": "code",
      "execution_count": 2,
      "metadata": {
        "id": "jwV9NqBrtPMd",
        "colab": {
          "base_uri": "https://localhost:8080/"
        },
        "outputId": "7de9941c-e5b8-4ce2-d27f-2664bf7f4e53"
      },
      "outputs": [
        {
          "output_type": "stream",
          "name": "stdout",
          "text": [
            "Using text column: url\n",
            "Using label column: status\n",
            "Data ready.\n"
          ]
        }
      ],
      "source": [
        "csv_path = 'https://raw.githubusercontent.com/DyanielCX/DLI-Assm/refs/heads/main/dataset_B_05_2020_1.csv'\n",
        "df = pd.read_csv(csv_path)\n",
        "\n",
        "text_col_candidates = [c for c in df.columns if c.lower() in ['url','text','content','message','body','title'] or 'url' in c.lower()]\n",
        "label_col_candidates = [c for c in df.columns if c.lower() in ['label','status','target','class','category','phishing']]\n",
        "\n",
        "if not text_col_candidates or not label_col_candidates:\n",
        "    raise ValueError(f\"Could not infer columns. Columns found: {df.columns.tolist()}\")\n",
        "\n",
        "text_col = text_col_candidates[0]\n",
        "label_col = label_col_candidates[0]\n",
        "\n",
        "X_text = df[text_col].astype(str).fillna('')\n",
        "y_raw = df[label_col].astype(str).fillna('')\n",
        "\n",
        "X_train_text, X_temp_text, y_train_raw, y_temp_raw = train_test_split(X_text, y_raw, test_size=0.3, random_state=42, stratify=y_raw)\n",
        "X_val_text, X_test_text, y_val_raw, y_test_raw = train_test_split(X_temp_text, y_temp_raw, test_size=0.5, random_state=42, stratify=y_temp_raw)\n",
        "\n",
        "tokenizer = Tokenizer(lower=True, char_level=True, oov_token='-n-')\n",
        "tokenizer.fit_on_texts(pd.concat([X_train_text, X_val_text, X_test_text], axis=0))\n",
        "\n",
        "X_train = tokenizer.texts_to_sequences(list(X_train_text))\n",
        "X_val = tokenizer.texts_to_sequences(list(X_val_text))\n",
        "X_test = tokenizer.texts_to_sequences(list(X_test_text))\n",
        "\n",
        "encoder = LabelEncoder()\n",
        "encoder.fit(sorted(y_raw.unique()))\n",
        "y_train = to_categorical(encoder.transform(y_train_raw))\n",
        "y_val = to_categorical(encoder.transform(y_val_raw))\n",
        "y_test = to_categorical(encoder.transform(y_test_raw))\n",
        "\n",
        "# Parameters\n",
        "epochs = 15\n",
        "batch_size = 32\n",
        "sequence_length = 200\n",
        "embed_dim = 50\n",
        "\n",
        "print(f'Using text column: {text_col}')\n",
        "print(f'Using label column: {label_col}')\n",
        "print('Data ready.')"
      ]
    },
    {
      "cell_type": "code",
      "source": [
        "def build_cnn_parallel(vocab_size, embed_dim=50, sequence_length=200, num_classes=2):\n",
        "    inputs = Input(shape=(sequence_length,))\n",
        "    x = Embedding(vocab_size + 1, embed_dim)(inputs)\n",
        "\n",
        "    convs = []\n",
        "    for k in [3, 5, 7]:\n",
        "        c = Conv1D(filters=128, kernel_size=k, activation=\"relu\", padding=\"same\")(x)\n",
        "        p = GlobalMaxPooling1D()(c)\n",
        "        convs.append(p)\n",
        "\n",
        "    x = Concatenate()(convs)\n",
        "    x = Dense(128, activation=\"relu\", name=\"cnn_features\")(x)\n",
        "    x = Dropout(0.5)(x)\n",
        "\n",
        "    outputs = Dense(num_classes, activation=\"sigmoid\")(x)\n",
        "\n",
        "    model = Model(inputs=inputs, outputs=outputs)\n",
        "    return model\n"
      ],
      "metadata": {
        "id": "NcM4U8UZ7uwG"
      },
      "execution_count": 3,
      "outputs": []
    },
    {
      "cell_type": "code",
      "source": [
        "x_train_pad = sequence.pad_sequences(X_train, maxlen=sequence_length)\n",
        "x_val_pad = sequence.pad_sequences(X_val, maxlen=sequence_length)\n",
        "x_test_pad = sequence.pad_sequences(X_test, maxlen=sequence_length)\n",
        "\n",
        "vocab_size = len(tokenizer.word_index)\n",
        "num_classes = y_train.shape[1]\n",
        "\n",
        "cnn_model = build_cnn_parallel(vocab_size, embed_dim, sequence_length, num_classes)\n",
        "cnn_model.compile(loss='binary_crossentropy', optimizer='adam', metrics=['accuracy'])\n",
        "\n",
        "start_time = time.time()\n",
        "history = cnn_model.fit(\n",
        "    x_train_pad, y_train,\n",
        "    validation_data=(x_val_pad, y_val),\n",
        "    epochs=epochs,\n",
        "    batch_size=batch_size,\n",
        "    shuffle=True,\n",
        "    verbose=1\n",
        ")\n",
        "train_time = time.time() - start_time\n",
        "\n",
        "test_loss, test_acc = cnn_model.evaluate(x_test_pad, y_test, verbose=0)\n",
        "\n",
        "y_true = np.argmax(y_test, axis=1)\n",
        "y_pred = np.argmax(cnn_model.predict(x_test_pad, verbose=0), axis=1)\n",
        "report = classification_report(y_true, y_pred, digits=4)\n",
        "cm = confusion_matrix(y_true, y_pred)\n",
        "\n",
        "print(f\"Test accuracy: {test_acc:.4f}\")\n",
        "print(f\"Test loss: {test_loss:.4f}\")\n",
        "print(report)\n"
      ],
      "metadata": {
        "colab": {
          "base_uri": "https://localhost:8080/"
        },
        "id": "iDfn4WaP7wvm",
        "outputId": "9013c4b2-894d-42c6-e0e8-6e772b155146"
      },
      "execution_count": 4,
      "outputs": [
        {
          "output_type": "stream",
          "name": "stdout",
          "text": [
            "Epoch 1/15\n",
            "\u001b[1m251/251\u001b[0m \u001b[32m━━━━━━━━━━━━━━━━━━━━\u001b[0m\u001b[37m\u001b[0m \u001b[1m34s\u001b[0m 125ms/step - accuracy: 0.7172 - loss: 0.5604 - val_accuracy: 0.8769 - val_loss: 0.3115\n",
            "Epoch 2/15\n",
            "\u001b[1m251/251\u001b[0m \u001b[32m━━━━━━━━━━━━━━━━━━━━\u001b[0m\u001b[37m\u001b[0m \u001b[1m37s\u001b[0m 111ms/step - accuracy: 0.8712 - loss: 0.3160 - val_accuracy: 0.9026 - val_loss: 0.2389\n",
            "Epoch 3/15\n",
            "\u001b[1m251/251\u001b[0m \u001b[32m━━━━━━━━━━━━━━━━━━━━\u001b[0m\u001b[37m\u001b[0m \u001b[1m40s\u001b[0m 107ms/step - accuracy: 0.9125 - loss: 0.2264 - val_accuracy: 0.9131 - val_loss: 0.1966\n",
            "Epoch 4/15\n",
            "\u001b[1m251/251\u001b[0m \u001b[32m━━━━━━━━━━━━━━━━━━━━\u001b[0m\u001b[37m\u001b[0m \u001b[1m43s\u001b[0m 117ms/step - accuracy: 0.9417 - loss: 0.1628 - val_accuracy: 0.9230 - val_loss: 0.1924\n",
            "Epoch 5/15\n",
            "\u001b[1m251/251\u001b[0m \u001b[32m━━━━━━━━━━━━━━━━━━━━\u001b[0m\u001b[37m\u001b[0m \u001b[1m38s\u001b[0m 107ms/step - accuracy: 0.9624 - loss: 0.1156 - val_accuracy: 0.9183 - val_loss: 0.1983\n",
            "Epoch 6/15\n",
            "\u001b[1m251/251\u001b[0m \u001b[32m━━━━━━━━━━━━━━━━━━━━\u001b[0m\u001b[37m\u001b[0m \u001b[1m42s\u001b[0m 111ms/step - accuracy: 0.9710 - loss: 0.0942 - val_accuracy: 0.9271 - val_loss: 0.2056\n",
            "Epoch 7/15\n",
            "\u001b[1m251/251\u001b[0m \u001b[32m━━━━━━━━━━━━━━━━━━━━\u001b[0m\u001b[37m\u001b[0m \u001b[1m40s\u001b[0m 108ms/step - accuracy: 0.9735 - loss: 0.0765 - val_accuracy: 0.9230 - val_loss: 0.2138\n",
            "Epoch 8/15\n",
            "\u001b[1m251/251\u001b[0m \u001b[32m━━━━━━━━━━━━━━━━━━━━\u001b[0m\u001b[37m\u001b[0m \u001b[1m42s\u001b[0m 112ms/step - accuracy: 0.9884 - loss: 0.0404 - val_accuracy: 0.9300 - val_loss: 0.2285\n",
            "Epoch 9/15\n",
            "\u001b[1m251/251\u001b[0m \u001b[32m━━━━━━━━━━━━━━━━━━━━\u001b[0m\u001b[37m\u001b[0m \u001b[1m41s\u001b[0m 112ms/step - accuracy: 0.9930 - loss: 0.0259 - val_accuracy: 0.9271 - val_loss: 0.2532\n",
            "Epoch 10/15\n",
            "\u001b[1m251/251\u001b[0m \u001b[32m━━━━━━━━━━━━━━━━━━━━\u001b[0m\u001b[37m\u001b[0m \u001b[1m29s\u001b[0m 117ms/step - accuracy: 0.9945 - loss: 0.0207 - val_accuracy: 0.9125 - val_loss: 0.3137\n",
            "Epoch 11/15\n",
            "\u001b[1m251/251\u001b[0m \u001b[32m━━━━━━━━━━━━━━━━━━━━\u001b[0m\u001b[37m\u001b[0m \u001b[1m40s\u001b[0m 112ms/step - accuracy: 0.9887 - loss: 0.0301 - val_accuracy: 0.9236 - val_loss: 0.2761\n",
            "Epoch 12/15\n",
            "\u001b[1m251/251\u001b[0m \u001b[32m━━━━━━━━━━━━━━━━━━━━\u001b[0m\u001b[37m\u001b[0m \u001b[1m41s\u001b[0m 112ms/step - accuracy: 0.9909 - loss: 0.0292 - val_accuracy: 0.8950 - val_loss: 0.4624\n",
            "Epoch 13/15\n",
            "\u001b[1m251/251\u001b[0m \u001b[32m━━━━━━━━━━━━━━━━━━━━\u001b[0m\u001b[37m\u001b[0m \u001b[1m28s\u001b[0m 113ms/step - accuracy: 0.9873 - loss: 0.0370 - val_accuracy: 0.9084 - val_loss: 0.3726\n",
            "Epoch 14/15\n",
            "\u001b[1m251/251\u001b[0m \u001b[32m━━━━━━━━━━━━━━━━━━━━\u001b[0m\u001b[37m\u001b[0m \u001b[1m41s\u001b[0m 112ms/step - accuracy: 0.9849 - loss: 0.0401 - val_accuracy: 0.9055 - val_loss: 0.3855\n",
            "Epoch 15/15\n",
            "\u001b[1m251/251\u001b[0m \u001b[32m━━━━━━━━━━━━━━━━━━━━\u001b[0m\u001b[37m\u001b[0m \u001b[1m28s\u001b[0m 112ms/step - accuracy: 0.9846 - loss: 0.0472 - val_accuracy: 0.9277 - val_loss: 0.2861\n",
            "Test accuracy: 0.9318\n",
            "Test loss: 0.2908\n",
            "              precision    recall  f1-score   support\n",
            "\n",
            "           0     0.9385    0.9242    0.9313       858\n",
            "           1     0.9253    0.9393    0.9323       857\n",
            "\n",
            "    accuracy                         0.9318      1715\n",
            "   macro avg     0.9319    0.9318    0.9318      1715\n",
            "weighted avg     0.9319    0.9318    0.9318      1715\n",
            "\n"
          ]
        }
      ]
    },
    {
      "cell_type": "code",
      "source": [
        "# FEATURE EXTRACTION + COMBINATION\n",
        "# Extract CNN intermediate features, merge with any tabular columns, and standardize.\n",
        "\n",
        "X_all_seq = tokenizer.texts_to_sequences(list(X_text))\n",
        "X_all_pad = pad_sequences(X_all_seq, maxlen=sequence_length)\n",
        "\n",
        "feature_extractor = Model(\n",
        "    inputs=cnn_model.input,\n",
        "    outputs=cnn_model.get_layer(\"cnn_features\").output\n",
        ")\n",
        "cnn_feats_all = feature_extractor.predict(X_all_pad, verbose=0)\n",
        "\n",
        "ml_features = df.drop(columns=[text_col, label_col]).copy()\n",
        "\n",
        "if ml_features.shape[1] == 0:\n",
        "    X_combined = cnn_feats_all\n",
        "else:\n",
        "    scaler = StandardScaler()\n",
        "    ml_scaled = scaler.fit_transform(ml_features.values)\n",
        "    X_combined = np.hstack([cnn_feats_all, ml_scaled])\n",
        "\n",
        "y_all = encoder.transform(y_raw)\n",
        "\n",
        "print(\"cnn_feats_all:\", cnn_feats_all.shape,\n",
        "      \"| tabular:\", (ml_features.shape[0], ml_features.shape[1]),\n",
        "      \"| X_combined:\", X_combined.shape)\n"
      ],
      "metadata": {
        "colab": {
          "base_uri": "https://localhost:8080/"
        },
        "id": "DrXs2-X57y7o",
        "outputId": "48c4fb57-0780-4e5b-8284-8f727086bbcd"
      },
      "execution_count": 5,
      "outputs": [
        {
          "output_type": "stream",
          "name": "stdout",
          "text": [
            "cnn_feats_all: (11430, 128) | tabular: (11430, 87) | X_combined: (11430, 215)\n"
          ]
        }
      ]
    },
    {
      "cell_type": "code",
      "source": [
        "# MODEL TRAINING — CALIBRATED SVC WITH THRESHOLD TUNING\n",
        "# Train LinearSVC wrapped in CalibratedClassifierCV, tune threshold on validation set for best accuracy.\n",
        "\n",
        "# Fixed split seed for reproducibility\n",
        "_split_seed = 9\n",
        "X_train_svc, X_test_svc, y_train_svc, y_test_svc = train_test_split(\n",
        "    X_combined, y_all, test_size=0.2, stratify=y_all, random_state=_split_seed\n",
        ")\n",
        "\n",
        "# Further split training set into train/val\n",
        "X_tr_c, X_val_c, y_tr_c, y_val_c = train_test_split(\n",
        "    X_train_svc, y_train_svc, test_size=0.2, stratify=y_train_svc, random_state=42\n",
        ")\n",
        "\n",
        "# Base Linear SVC\n",
        "base_svc = LinearSVC(\n",
        "    loss=\"squared_hinge\",\n",
        "    penalty=\"l2\",\n",
        "    dual=True,\n",
        "    max_iter=100000,\n",
        "    tol=1e-3,\n",
        "    class_weight=\"balanced\",\n",
        "    C=1.0,\n",
        "    random_state=42\n",
        ")\n",
        "\n",
        "# Wrap with calibration\n",
        "svc_cal = CalibratedClassifierCV(base_svc, cv=5, method=\"sigmoid\")\n",
        "svc_cal.fit(X_tr_c, y_tr_c)\n",
        "\n",
        "# Threshold tuning on validation set\n",
        "val_proba_svc = svc_cal.predict_proba(X_val_c)[:, 1]\n",
        "thr_grid = np.linspace(0.05, 0.95, 181)\n",
        "best_thr_svc, best_acc_svc = 0.5, 0.0\n",
        "for t in thr_grid:\n",
        "    acc = accuracy_score(y_val_c, (val_proba_svc >= t).astype(int))\n",
        "    if acc > best_acc_svc:\n",
        "        best_acc_svc, best_thr_svc = acc, t\n",
        "\n",
        "print(f\"[SVC] Best val acc at thr={best_thr_svc:.3f}\")\n",
        "\n",
        "# Re-train on full train set and evaluate on test set\n",
        "svc_cal.fit(X_train_svc, y_train_svc)\n",
        "test_proba_svc = svc_cal.predict_proba(X_test_svc)[:, 1]\n",
        "svc_test_acc = accuracy_score(y_test_svc, (test_proba_svc >= best_thr_svc).astype(int))\n",
        "print(f\"Calibrated SVC test accuracy (tuned thr): {svc_test_acc:.4f}\")\n",
        "print(\"Classification report:\\n\", classification_report(\n",
        "    y_test_svc, (test_proba_svc >= best_thr_svc).astype(int), digits=4\n",
        "))\n",
        "\n",
        "# Confusion matrix\n",
        "cm = confusion_matrix(y_test_svc, (test_proba_svc >= best_thr_svc).astype(int))\n",
        "plt.figure(figsize=(6,5))\n",
        "sns.heatmap(cm, annot=True, fmt=\"d\", cmap=\"Blues\", cbar=False)\n",
        "plt.title(\"Calibrated LinearSVC on CNN features + Tabular — Confusion Matrix\")\n",
        "plt.xlabel(\"Predicted\")\n",
        "plt.ylabel(\"True\")\n",
        "plt.tight_layout()\n",
        "plt.show()"
      ],
      "metadata": {
        "colab": {
          "base_uri": "https://localhost:8080/",
          "height": 725
        },
        "id": "T8VHpGJD72Bd",
        "outputId": "bcd2f439-1bcc-4b36-8601-7ea706fd978b"
      },
      "execution_count": 6,
      "outputs": [
        {
          "output_type": "stream",
          "name": "stdout",
          "text": [
            "[SVC] Best val acc at thr=0.495\n",
            "Calibrated SVC test accuracy (tuned thr): 0.9891\n",
            "Classification report:\n",
            "               precision    recall  f1-score   support\n",
            "\n",
            "           0     0.9929    0.9851    0.9890      1143\n",
            "           1     0.9852    0.9930    0.9891      1143\n",
            "\n",
            "    accuracy                         0.9891      2286\n",
            "   macro avg     0.9891    0.9891    0.9891      2286\n",
            "weighted avg     0.9891    0.9891    0.9891      2286\n",
            "\n"
          ]
        },
        {
          "output_type": "display_data",
          "data": {
            "text/plain": [
              "<Figure size 600x500 with 1 Axes>"
            ],
            "image/png": "[encoded data removed]"
          },
          "metadata": {}
        }
      ]
    },
    {
      "cell_type": "code",
      "source": [
        "# MODEL TRAINING — LOGISTIC REGRESSION WITH THRESHOLD TUNING\n",
        "# Train logistic regression on CNN+tabular features, tune threshold on validation set for best accuracy.\n",
        "\n",
        "lr = LogisticRegression(\n",
        "    C=4.0, penalty=\"l2\",\n",
        "    class_weight=\"balanced\",\n",
        "    solver=\"liblinear\",\n",
        "    max_iter=3000\n",
        ")\n",
        "lr.fit(X_tr_c, y_tr_c)\n",
        "\n",
        "val_proba_lr = lr.predict_proba(X_val_c)[:, 1]\n",
        "best_thr_lr, best_acc_lr = 0.5, 0.0\n",
        "for t in thr_grid:\n",
        "    acc = accuracy_score(y_val_c, (val_proba_lr >= t).astype(int))\n",
        "    if acc > best_acc_lr:\n",
        "        best_acc_lr, best_thr_lr = acc, t\n",
        "\n",
        "print(f\"[LR] Best val acc at thr={best_thr_lr:.3f}\")\n",
        "\n",
        "lr.fit(X_train_svc, y_train_svc)\n",
        "test_proba_lr = lr.predict_proba(X_test_svc)[:, 1]\n",
        "lr_test_acc = accuracy_score(y_test_svc, (test_proba_lr >= best_thr_lr).astype(int))\n",
        "print(f\" Logistic Regression test accuracy (tuned thr): {lr_test_acc:.4f}\")\n"
      ],
      "metadata": {
        "colab": {
          "base_uri": "https://localhost:8080/"
        },
        "id": "-avVJ2D177Kx",
        "outputId": "f1650c8f-58ea-42c3-d860-09ed59b471ff"
      },
      "execution_count": 7,
      "outputs": [
        {
          "output_type": "stream",
          "name": "stdout",
          "text": [
            "[LR] Best val acc at thr=0.650\n",
            " Logistic Regression test accuracy (tuned thr): 0.9886\n"
          ]
        }
      ]
    },
    {
      "cell_type": "code",
      "source": [
        "# METRICS: Compute F1, ROC-AUC, PR-AUC for SVC and LR\n",
        "\n",
        "results = {}\n",
        "\n",
        "# --- SVC ---\n",
        "y_pred_bin_svc = (test_proba_svc >= best_thr_svc).astype(int)\n",
        "f1_svc = f1_score(y_test_svc, y_pred_bin_svc)\n",
        "roc_auc_svc = roc_auc_score(y_test_svc, test_proba_svc)\n",
        "pr_auc_svc = average_precision_score(y_test_svc, test_proba_svc)\n",
        "results[\"SVC\"] = {\"acc\": svc_test_acc, \"f1\": f1_svc, \"roc_auc\": roc_auc_svc, \"pr_auc\": pr_auc_svc}\n",
        "\n",
        "# --- Logistic Regression ---\n",
        "y_pred_bin_lr = (test_proba_lr >= best_thr_lr).astype(int)\n",
        "f1_lr = f1_score(y_test_svc, y_pred_bin_lr)\n",
        "roc_auc_lr = roc_auc_score(y_test_svc, test_proba_lr)\n",
        "pr_auc_lr = average_precision_score(y_test_svc, test_proba_lr)\n",
        "results[\"LR\"] = {\"acc\": lr_test_acc, \"f1\": f1_lr, \"roc_auc\": roc_auc_lr, \"pr_auc\": pr_auc_lr}\n",
        "\n",
        "print(\"Evaluation Results:\")\n",
        "for model, vals in results.items():\n",
        "    print(f\"{model}: Acc={vals['acc']:.4f}, F1={vals['f1']:.4f}, ROC-AUC={vals['roc_auc']:.4f}, PR-AUC={vals['pr_auc']:.4f}\")\n"
      ],
      "metadata": {
        "colab": {
          "base_uri": "https://localhost:8080/"
        },
        "id": "6nx-dYty79E4",
        "outputId": "6eb92965-d162-4c1b-f2f2-4686f27b6c9d"
      },
      "execution_count": 8,
      "outputs": [
        {
          "output_type": "stream",
          "name": "stdout",
          "text": [
            "Evaluation Results:\n",
            "SVC: Acc=0.9891, F1=0.9891, ROC-AUC=0.9988, PR-AUC=0.9987\n",
            "LR: Acc=0.9886, F1=0.9886, ROC-AUC=0.9987, PR-AUC=0.9985\n"
          ]
        }
      ]
    },
    {
      "cell_type": "code",
      "source": [
        "# --- Bar Chart: Compare with DEPHIDES (LR + SVC) ---\n",
        "labels = [\"Accuracy\", \"F1\", \"ROC-AUC\", \"PR-AUC\"]\n",
        "\n",
        "# My LR results\n",
        "lr_vals = [\n",
        "    results[\"LR\"][\"acc\"],\n",
        "    results[\"LR\"][\"f1\"],\n",
        "    results[\"LR\"][\"roc_auc\"],\n",
        "    results[\"LR\"][\"pr_auc\"]\n",
        "]\n",
        "\n",
        "# My SVC results\n",
        "svc_vals = [\n",
        "    results[\"SVC\"][\"acc\"],\n",
        "    results[\"SVC\"][\"f1\"],\n",
        "    results[\"SVC\"][\"roc_auc\"],\n",
        "    results[\"SVC\"][\"pr_auc\"]\n",
        "]\n",
        "\n",
        "# DEPHIDES paper (hardcoded, only reports Acc & F1)\n",
        "dephides_vals = [0.9874, 0.9870, None, None]\n",
        "\n",
        "x = np.arange(len(labels))\n",
        "width = 0.25  # narrower since 3 groups\n",
        "\n",
        "plt.figure(figsize=(9,5))\n",
        "plt.bar(x - width, lr_vals, width, label=\"My LR\")\n",
        "plt.bar(x, svc_vals, width, label=\"My SVC\")\n",
        "plt.bar(x + width, [v if v is not None else 0 for v in dephides_vals],\n",
        "        width, label=\"DEPHIDES\")\n",
        "\n",
        "# Annotate missing metrics in DEPHIDES\n",
        "for i, v in enumerate(dephides_vals):\n",
        "    if v is None:\n",
        "        plt.text(x[i] + width, 0.01, \"N/A\", ha=\"center\", va=\"bottom\", fontsize=8, color=\"red\")\n",
        "\n",
        "plt.xticks(x, labels)\n",
        "plt.ylabel(\"Score\")\n",
        "plt.title(\"Comparison with DEPHIDES (Paper vs My Models)\")\n",
        "plt.legend()\n",
        "plt.ylim(0,1.05)\n",
        "plt.tight_layout()\n",
        "plt.show()\n"
      ],
      "metadata": {
        "colab": {
          "base_uri": "https://localhost:8080/",
          "height": 507
        },
        "id": "gD84z0M87-Tx",
        "outputId": "d0a88b69-c090-4d57-f55f-0c7cb3f7fadf"
      },
      "execution_count": 9,
      "outputs": [
        {
          "output_type": "display_data",
          "data": {
            "text/plain": [
              "<Figure size 900x500 with 1 Axes>"
            ],
            "image/png": "[encoded data removed]"
          },
          "metadata": {}
        }
      ]
    }
  ],
  "metadata": {
    "colab": {
      "provenance": []
    },
    "kernelspec": {
      "display_name": "Python 3",
      "name": "python3"
    },
    "language_info": {
      "name": "python"
    }
  },
  "nbformat": 4,
  "nbformat_minor": 0
}