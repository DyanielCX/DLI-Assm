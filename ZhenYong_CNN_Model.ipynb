{
  "cells": [
    {
      "cell_type": "code",
      "execution_count": 20,
      "metadata": {
        "colab": {
          "base_uri": "https://localhost:8080/"
        },
        "id": "86yw7fcgK-wI",
        "outputId": "0aa5b9c0-6fb2-438e-e2b8-c21b2f01c1bf"
      },
      "outputs": [
        {
          "name": "stdout",
          "output_type": "stream",
          "text": [
            "Using text column: url\n",
            "Using label column: status\n",
            "Data ready.\n"
          ]
        }
      ],
      "source": [
        "import pandas as pd\n",
        "import numpy as np\n",
        "from sklearn.model_selection import train_test_split\n",
        "from sklearn.preprocessing import LabelEncoder\n",
        "from tensorflow.keras.utils import to_categorical\n",
        "from tensorflow.keras.preprocessing.text import Tokenizer\n",
        "\n",
        "csv_path = 'https://raw.githubusercontent.com/DyanielCX/DLI-Assm/refs/heads/main/dataset_B_05_2020_1.csv'\n",
        "df = pd.read_csv(csv_path)\n",
        "\n",
        "text_col_candidates = [c for c in df.columns if c.lower() in ['url','text','content','message','body','title'] or 'url' in c.lower()]\n",
        "label_col_candidates = [c for c in df.columns if c.lower() in ['label','status','target','class','category','phishing']]\n",
        "\n",
        "if not text_col_candidates or not label_col_candidates:\n",
        "    raise ValueError(f\"Could not infer columns. Columns found: {df.columns.tolist()}\")\n",
        "\n",
        "text_col = text_col_candidates[0]\n",
        "label_col = label_col_candidates[0]\n",
        "\n",
        "X_text = df[text_col].astype(str).fillna('')\n",
        "y_raw = df[label_col].astype(str).fillna('')\n",
        "\n",
        "X_train_text, X_temp_text, y_train_raw, y_temp_raw = train_test_split(X_text, y_raw, test_size=0.3, random_state=42, stratify=y_raw)\n",
        "X_val_text, X_test_text, y_val_raw, y_test_raw = train_test_split(X_temp_text, y_temp_raw, test_size=0.5, random_state=42, stratify=y_temp_raw)\n",
        "\n",
        "tokenizer = Tokenizer(lower=True, char_level=True, oov_token='-n-')\n",
        "tokenizer.fit_on_texts(pd.concat([X_train_text, X_val_text, X_test_text], axis=0))\n",
        "\n",
        "X_train = tokenizer.texts_to_sequences(list(X_train_text))\n",
        "X_val = tokenizer.texts_to_sequences(list(X_val_text))\n",
        "X_test = tokenizer.texts_to_sequences(list(X_test_text))\n",
        "\n",
        "encoder = LabelEncoder()\n",
        "encoder.fit(sorted(y_raw.unique()))\n",
        "y_train = to_categorical(encoder.transform(y_train_raw))\n",
        "y_val = to_categorical(encoder.transform(y_val_raw))\n",
        "y_test = to_categorical(encoder.transform(y_test_raw))\n",
        "\n",
        "epochs = 15\n",
        "batch_size = 32\n",
        "sequence_length = 300\n",
        "embed_dim = 100\n",
        "\n",
        "print(f'Using text column: {text_col}')\n",
        "print(f'Using label column: {label_col}')\n",
        "print('Data ready.')\n"
      ]
    },
    {
      "cell_type": "code",
      "execution_count": 21,
      "metadata": {
        "id": "0VMtXVIoLDgK"
      },
      "outputs": [],
      "source": [
        "# CNN model definition (parallel CNN with multiple kernel sizes)\n",
        "from keras.models import Model\n",
        "from keras.layers import Input, Embedding, Conv1D, GlobalMaxPooling1D, Concatenate, Dense, Dropout\n",
        "\n",
        "def build_cnn_parallel(vocab_size, embed_dim=50, sequence_length=200, num_classes=2):\n",
        "    \"\"\"\n",
        "    CNN with parallel Conv1D layers of different kernel sizes (3, 5, 7).\n",
        "    Embedding -> [Conv3, Conv5, Conv7] -> Concatenate -> Dense(cnn_features) -> Dropout -> Output\n",
        "    \"\"\"\n",
        "    inputs = Input(shape=(sequence_length,))\n",
        "    x = Embedding(vocab_size + 1, embed_dim)(inputs)\n",
        "\n",
        "    convs = []\n",
        "    for k in [3, 5, 7]:\n",
        "        c = Conv1D(filters=128, kernel_size=k, activation=\"relu\", padding=\"same\")(x)\n",
        "        p = GlobalMaxPooling1D()(c)\n",
        "        convs.append(p)\n",
        "\n",
        "    x = Concatenate()(convs)\n",
        "\n",
        "    # Named feature layer\n",
        "    x = Dense(128, activation=\"relu\", name=\"cnn_features\")(x)\n",
        "    x = Dropout(0.5)(x)\n",
        "\n",
        "    outputs = Dense(num_classes, activation=\"sigmoid\")(x)\n",
        "\n",
        "    model = Model(inputs=inputs, outputs=outputs)\n",
        "    return model\n"
      ]
    },
    {
      "cell_type": "code",
      "execution_count": 23,
      "metadata": {
        "colab": {
          "base_uri": "https://localhost:8080/"
        },
        "id": "8EMduqI8LEH-",
        "outputId": "b1a229dc-893b-4894-a2ca-4a52f4c59ac8"
      },
      "outputs": [
        {
          "name": "stdout",
          "output_type": "stream",
          "text": [
            "Epoch 1/15\n",
            "\u001b[1m251/251\u001b[0m \u001b[32m━━━━━━━━━━━━━━━━━━━━\u001b[0m\u001b[37m\u001b[0m \u001b[1m11s\u001b[0m 27ms/step - accuracy: 0.7242 - loss: 0.5327 - val_accuracy: 0.8862 - val_loss: 0.3037\n",
            "Epoch 2/15\n",
            "\u001b[1m251/251\u001b[0m \u001b[32m━━━━━━━━━━━━━━━━━━━━\u001b[0m\u001b[37m\u001b[0m \u001b[1m4s\u001b[0m 10ms/step - accuracy: 0.8878 - loss: 0.2773 - val_accuracy: 0.8973 - val_loss: 0.2494\n",
            "Epoch 3/15\n",
            "\u001b[1m251/251\u001b[0m \u001b[32m━━━━━━━━━━━━━━━━━━━━\u001b[0m\u001b[37m\u001b[0m \u001b[1m2s\u001b[0m 9ms/step - accuracy: 0.9338 - loss: 0.1751 - val_accuracy: 0.9347 - val_loss: 0.1792\n",
            "Epoch 4/15\n",
            "\u001b[1m251/251\u001b[0m \u001b[32m━━━━━━━━━━━━━━━━━━━━\u001b[0m\u001b[37m\u001b[0m \u001b[1m2s\u001b[0m 8ms/step - accuracy: 0.9568 - loss: 0.1244 - val_accuracy: 0.9300 - val_loss: 0.1742\n",
            "Epoch 5/15\n",
            "\u001b[1m251/251\u001b[0m \u001b[32m━━━━━━━━━━━━━━━━━━━━\u001b[0m\u001b[37m\u001b[0m \u001b[1m2s\u001b[0m 8ms/step - accuracy: 0.9681 - loss: 0.0838 - val_accuracy: 0.8979 - val_loss: 0.2641\n",
            "Epoch 6/15\n",
            "\u001b[1m251/251\u001b[0m \u001b[32m━━━━━━━━━━━━━━━━━━━━\u001b[0m\u001b[37m\u001b[0m \u001b[1m2s\u001b[0m 9ms/step - accuracy: 0.9892 - loss: 0.0433 - val_accuracy: 0.9294 - val_loss: 0.2059\n",
            "Epoch 7/15\n",
            "\u001b[1m251/251\u001b[0m \u001b[32m━━━━━━━━━━━━━━━━━━━━\u001b[0m\u001b[37m\u001b[0m \u001b[1m3s\u001b[0m 9ms/step - accuracy: 0.9945 - loss: 0.0240 - val_accuracy: 0.9312 - val_loss: 0.2163\n",
            "Epoch 8/15\n",
            "\u001b[1m251/251\u001b[0m \u001b[32m━━━━━━━━━━━━━━━━━━━━\u001b[0m\u001b[37m\u001b[0m \u001b[1m2s\u001b[0m 8ms/step - accuracy: 0.9913 - loss: 0.0241 - val_accuracy: 0.9358 - val_loss: 0.2232\n",
            "Epoch 9/15\n",
            "\u001b[1m251/251\u001b[0m \u001b[32m━━━━━━━━━━━━━━━━━━━━\u001b[0m\u001b[37m\u001b[0m \u001b[1m2s\u001b[0m 8ms/step - accuracy: 0.9933 - loss: 0.0200 - val_accuracy: 0.9300 - val_loss: 0.2422\n",
            "Epoch 10/15\n",
            "\u001b[1m251/251\u001b[0m \u001b[32m━━━━━━━━━━━━━━━━━━━━\u001b[0m\u001b[37m\u001b[0m \u001b[1m2s\u001b[0m 9ms/step - accuracy: 0.9956 - loss: 0.0150 - val_accuracy: 0.9207 - val_loss: 0.2714\n",
            "Epoch 11/15\n",
            "\u001b[1m251/251\u001b[0m \u001b[32m━━━━━━━━━━━━━━━━━━━━\u001b[0m\u001b[37m\u001b[0m \u001b[1m2s\u001b[0m 8ms/step - accuracy: 0.9872 - loss: 0.0338 - val_accuracy: 0.9358 - val_loss: 0.2278\n",
            "Epoch 12/15\n",
            "\u001b[1m251/251\u001b[0m \u001b[32m━━━━━━━━━━━━━━━━━━━━\u001b[0m\u001b[37m\u001b[0m \u001b[1m3s\u001b[0m 13ms/step - accuracy: 0.9569 - loss: 0.1281 - val_accuracy: 0.9218 - val_loss: 0.2765\n",
            "Epoch 13/15\n",
            "\u001b[1m251/251\u001b[0m \u001b[32m━━━━━━━━━━━━━━━━━━━━\u001b[0m\u001b[37m\u001b[0m \u001b[1m2s\u001b[0m 8ms/step - accuracy: 0.9969 - loss: 0.0138 - val_accuracy: 0.9347 - val_loss: 0.2569\n",
            "Epoch 14/15\n",
            "\u001b[1m251/251\u001b[0m \u001b[32m━━━━━━━━━━━━━━━━━━━━\u001b[0m\u001b[37m\u001b[0m \u001b[1m2s\u001b[0m 8ms/step - accuracy: 0.9995 - loss: 0.0054 - val_accuracy: 0.9347 - val_loss: 0.2588\n",
            "Epoch 15/15\n",
            "\u001b[1m251/251\u001b[0m \u001b[32m━━━━━━━━━━━━━━━━━━━━\u001b[0m\u001b[37m\u001b[0m \u001b[1m2s\u001b[0m 8ms/step - accuracy: 0.9999 - loss: 0.0023 - val_accuracy: 0.9405 - val_loss: 0.2708\n",
            "Test accuracy: 0.9411\n",
            "Test loss: 0.2748\n",
            "              precision    recall  f1-score   support\n",
            "\n",
            "           0     0.9376    0.9452    0.9414       858\n",
            "           1     0.9447    0.9370    0.9408       857\n",
            "\n",
            "    accuracy                         0.9411      1715\n",
            "   macro avg     0.9411    0.9411    0.9411      1715\n",
            "weighted avg     0.9411    0.9411    0.9411      1715\n",
            "\n"
          ]
        }
      ],
      "source": [
        "# Compile and train CNN\n",
        "from keras.preprocessing import sequence\n",
        "from sklearn.metrics import classification_report, confusion_matrix\n",
        "import time\n",
        "\n",
        "sequence_length = 200 if 'sequence_length' not in globals() else sequence_length\n",
        "x_train_pad = sequence.pad_sequences(X_train, maxlen=sequence_length)\n",
        "x_val_pad = sequence.pad_sequences(X_val, maxlen=sequence_length)\n",
        "x_test_pad = sequence.pad_sequences(X_test, maxlen=sequence_length)\n",
        "\n",
        "vocab_size = len(tokenizer.word_index)\n",
        "num_classes = y_train.shape[1]\n",
        "embed_dim = 50 if 'embed_dim' not in globals() else embed_dim\n",
        "\n",
        "cnn_model = build_cnn_parallel(vocab_size, embed_dim, sequence_length, num_classes)\n",
        "cnn_model.compile(loss='binary_crossentropy', optimizer='adam', metrics=['accuracy'])\n",
        "\n",
        "start_time = time.time()\n",
        "history = cnn_model.fit(\n",
        "    x_train_pad, y_train,\n",
        "    validation_data=(x_val_pad, y_val),\n",
        "    epochs=epochs if 'epochs' in globals() else 10,\n",
        "    batch_size=batch_size if 'batch_size' in globals() else 128,\n",
        "    shuffle=True,\n",
        "    verbose=1\n",
        ")\n",
        "train_time = time.time() - start_time\n",
        "\n",
        "test_loss, test_acc = cnn_model.evaluate(x_test_pad, y_test, verbose=0)\n",
        "\n",
        "y_true = np.argmax(y_test, axis=1)\n",
        "y_pred = np.argmax(cnn_model.predict(x_test_pad, verbose=0), axis=1)\n",
        "report = classification_report(y_true, y_pred, digits=4)\n",
        "cm = confusion_matrix(y_true, y_pred)\n",
        "\n",
        "print(f\"Test accuracy: {test_acc:.4f}\")\n",
        "print(f\"Test loss: {test_loss:.4f}\")\n",
        "print(report)\n"
      ]
    },
    {
      "cell_type": "code",
      "execution_count": 24,
      "metadata": {
        "colab": {
          "base_uri": "https://localhost:8080/"
        },
        "id": "r1mnyP4rfqlp",
        "outputId": "f2ab8ba4-b3d2-480c-f98f-1f48836de73a"
      },
      "outputs": [
        {
          "name": "stdout",
          "output_type": "stream",
          "text": [
            "cnn_feats_all: (11430, 128) | tabular: (11430, 87) | X_combined: (11430, 215)\n"
          ]
        }
      ],
      "source": [
        "# Build [cnn_features | scaled_tabular] for ALL rows, then split for SVC\n",
        "from keras.models import Model\n",
        "from sklearn.preprocessing import StandardScaler\n",
        "from tensorflow.keras.preprocessing.sequence import pad_sequences\n",
        "\n",
        "# 1) Extract CNN penultimate features for all samples\n",
        "X_all_seq = tokenizer.texts_to_sequences(list(X_text))\n",
        "X_all_pad = pad_sequences(X_all_seq, maxlen=sequence_length)\n",
        "\n",
        "feature_extractor = Model(\n",
        "    inputs=cnn_model.input,\n",
        "    outputs=cnn_model.get_layer(\"cnn_features\").output\n",
        ")\n",
        "cnn_feats_all = feature_extractor.predict(X_all_pad, verbose=0)\n",
        "\n",
        "# 2) Tabular features = everything except the text and label columns\n",
        "ml_features = df.drop(columns=[text_col, label_col]).copy()\n",
        "\n",
        "# If there are no extra columns, fall back to only CNN features\n",
        "if ml_features.shape[1] == 0:\n",
        "    X_combined = cnn_feats_all\n",
        "else:\n",
        "    scaler = StandardScaler()\n",
        "    ml_scaled = scaler.fit_transform(ml_features.values)\n",
        "    X_combined = np.hstack([cnn_feats_all, ml_scaled])\n",
        "\n",
        "# Integer labels for sklearn models\n",
        "y_all = encoder.transform(y_raw)\n",
        "\n",
        "print(\"cnn_feats_all:\", cnn_feats_all.shape,\n",
        "      \"| tabular:\", (ml_features.shape[0], ml_features.shape[1]),\n",
        "      \"| X_combined:\", X_combined.shape)\n"
      ]
    },
    {
      "cell_type": "code",
      "execution_count": 26,
      "metadata": {
        "colab": {
          "base_uri": "https://localhost:8080/",
          "height": 698
        },
        "id": "Yn4knfu9fr3O",
        "outputId": "31c64b57-3cb2-4240-9a79-124cbb942b16"
      },
      "outputs": [
        {
          "name": "stdout",
          "output_type": "stream",
          "text": [
            "LinearSVC on [cnn_features | tabular] — test accuracy: 0.9580\n",
            "Classification report:\n",
            "               precision    recall  f1-score   support\n",
            "\n",
            "           0     0.9532    0.9633    0.9582      1143\n",
            "           1     0.9629    0.9528    0.9578      1143\n",
            "\n",
            "    accuracy                         0.9580      2286\n",
            "   macro avg     0.9581    0.9580    0.9580      2286\n",
            "weighted avg     0.9581    0.9580    0.9580      2286\n",
            "\n"
          ]
        },
        {
          "data": {
            "image/png": "[encoded data removed]",
            "text/plain": [
              "<Figure size 600x500 with 1 Axes>"
            ]
          },
          "metadata": {},
          "output_type": "display_data"
        }
      ],
      "source": [
        "from sklearn.model_selection import train_test_split\n",
        "from sklearn.svm import LinearSVC\n",
        "from sklearn.metrics import accuracy_score, classification_report, confusion_matrix\n",
        "import matplotlib.pyplot as plt\n",
        "import seaborn as sns\n",
        "\n",
        "X_train_svc, X_test_svc, y_train_svc, y_test_svc = train_test_split(\n",
        "    X_combined, y_all, test_size=0.2, stratify=y_all, random_state=42\n",
        ")\n",
        "\n",
        "svm_model = LinearSVC(\n",
        "    loss=\"squared_hinge\",\n",
        "    penalty=\"l2\",\n",
        "    dual=True,\n",
        "    class_weight=\"balanced\",\n",
        "    C=1.0,\n",
        "    tol=1e-3,\n",
        "    max_iter=100000,\n",
        "    random_state=42\n",
        ")\n",
        "svm_model.fit(X_train_svc, y_train_svc)\n",
        "\n",
        "y_pred_svc = svm_model.predict(X_test_svc)\n",
        "svc_acc = accuracy_score(y_test_svc, y_pred_svc)\n",
        "print(f\"LinearSVC on [cnn_features | tabular] — test accuracy: {svc_acc:.4f}\")\n",
        "print(\"Classification report:\\n\", classification_report(y_test_svc, y_pred_svc, digits=4))\n",
        "\n",
        "cm = confusion_matrix(y_test_svc, y_pred_svc)\n",
        "plt.figure(figsize=(6,5))\n",
        "sns.heatmap(cm, annot=True, fmt=\"d\", cmap=\"Blues\", cbar=False)\n",
        "plt.title(\"LinearSVC on CNN features + Tabular — Confusion Matrix\")\n",
        "plt.xlabel(\"Predicted\")\n",
        "plt.ylabel(\"True\")\n",
        "plt.tight_layout()\n",
        "plt.show()\n"
      ]
    }
  ],
  "metadata": {
    "accelerator": "GPU",
    "colab": {
      "gpuType": "T4",
      "provenance": []
    },
    "kernelspec": {
      "display_name": "Python 3",
      "name": "python3"
    },
    "language_info": {
      "name": "python"
    }
  },
  "nbformat": 4,
  "nbformat_minor": 0
}
