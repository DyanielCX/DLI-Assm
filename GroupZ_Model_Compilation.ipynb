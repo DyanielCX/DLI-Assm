{
  "nbformat": 4,
  "nbformat_minor": 0,
  "metadata": {
    "colab": {
      "provenance": [],
      "authorship_tag": "ABX9TyNEQb+BIbF2XMazX2kD590b",
      "include_colab_link": true
    },
    "kernelspec": {
      "name": "python3",
      "display_name": "Python 3"
    },
    "language_info": {
      "name": "python"
    }
  },
  "cells": [
    {
      "cell_type": "markdown",
      "metadata": {
        "id": "view-in-github",
        "colab_type": "text"
      },
      "source": [
        "<a href=\"https://colab.research.google.com/github/DyanielCX/DLI-Assm/blob/main/GroupZ_Model_Compilation.ipynb\" target=\"_parent\"><img src=\"https://colab.research.google.com/assets/colab-badge.svg\" alt=\"Open In Colab\"/></a>"
      ]
    },
    {
      "cell_type": "markdown",
      "source": [
        "# Setup and Import All Dependencies & Libraries"
      ],
      "metadata": {
        "id": "gWZAT6PvQFe7"
      }
    },
    {
      "cell_type": "code",
      "source": [
        "%pip install scikit-optimize"
      ],
      "metadata": {
        "colab": {
          "base_uri": "https://localhost:8080/"
        },
        "id": "f1X9ZZ4da3s7",
        "outputId": "47902c69-0566-47a3-e834-122222663ece"
      },
      "execution_count": null,
      "outputs": [
        {
          "output_type": "stream",
          "name": "stdout",
          "text": [
            "Collecting scikit-optimize\n",
            "  Downloading scikit_optimize-0.10.2-py2.py3-none-any.whl.metadata (9.7 kB)\n",
            "Requirement already satisfied: joblib>=0.11 in /usr/local/lib/python3.12/dist-packages (from scikit-optimize) (1.5.1)\n",
            "Collecting pyaml>=16.9 (from scikit-optimize)\n",
            "  Downloading pyaml-25.7.0-py3-none-any.whl.metadata (12 kB)\n",
            "Requirement already satisfied: numpy>=1.20.3 in /usr/local/lib/python3.12/dist-packages (from scikit-optimize) (2.0.2)\n",
            "Requirement already satisfied: scipy>=1.1.0 in /usr/local/lib/python3.12/dist-packages (from scikit-optimize) (1.16.1)\n",
            "Requirement already satisfied: scikit-learn>=1.0.0 in /usr/local/lib/python3.12/dist-packages (from scikit-optimize) (1.6.1)\n",
            "Requirement already satisfied: packaging>=21.3 in /usr/local/lib/python3.12/dist-packages (from scikit-optimize) (25.0)\n",
            "Requirement already satisfied: PyYAML in /usr/local/lib/python3.12/dist-packages (from pyaml>=16.9->scikit-optimize) (6.0.2)\n",
            "Requirement already satisfied: threadpoolctl>=3.1.0 in /usr/local/lib/python3.12/dist-packages (from scikit-learn>=1.0.0->scikit-optimize) (3.6.0)\n",
            "Downloading scikit_optimize-0.10.2-py2.py3-none-any.whl (107 kB)\n",
            "\u001b[2K   \u001b[90m━━━━━━━━━━━━━━━━━━━━━━━━━━━━━━━━━━━━━━━━\u001b[0m \u001b[32m107.8/107.8 kB\u001b[0m \u001b[31m3.3 MB/s\u001b[0m eta \u001b[36m0:00:00\u001b[0m\n",
            "\u001b[?25hDownloading pyaml-25.7.0-py3-none-any.whl (26 kB)\n",
            "Installing collected packages: pyaml, scikit-optimize\n",
            "Successfully installed pyaml-25.7.0 scikit-optimize-0.10.2\n"
          ]
        }
      ]
    },
    {
      "cell_type": "code",
      "execution_count": null,
      "metadata": {
        "id": "XcUAr1eOPtFN"
      },
      "outputs": [],
      "source": [
        "import time, os, json, random\n",
        "import pandas as pd\n",
        "import numpy as np\n",
        "import seaborn as sns\n",
        "from pathlib import Path\n",
        "\n",
        "# Scikit-learn Module\n",
        "from sklearn.model_selection import train_test_split\n",
        "from sklearn.preprocessing import LabelEncoder, StandardScaler\n",
        "from sklearn.metrics import (\n",
        "    confusion_matrix, classification_report, roc_auc_score,\n",
        "    accuracy_score, precision_score, recall_score, f1_score,\n",
        "    roc_curve, precision_recall_curve, average_precision_score\n",
        ")\n",
        "from sklearn.svm import LinearSVC\n",
        "from sklearn.cluster import KMeans\n",
        "from sklearn.ensemble import RandomForestClassifier\n",
        "from skopt import BayesSearchCV\n",
        "from skopt.space import Integer\n",
        "from scipy.stats import mode\n",
        "\n",
        "# Matploylib Module\n",
        "from matplotlib import colormaps\n",
        "import matplotlib.ticker as mtick\n",
        "import matplotlib.pyplot as plt\n",
        "\n",
        "\n",
        "# TensorFlow Module\n",
        "from tensorflow.keras import layers, models, callbacks, optimizers\n",
        "from tensorflow.keras.preprocessing.text import Tokenizer\n",
        "from tensorflow.keras.preprocessing.sequence import pad_sequences\n",
        "from tensorflow.keras.callbacks import EarlyStopping\n",
        "from tensorflow.keras.models import Model\n",
        "from tensorflow.keras.layers import (\n",
        "    Input, Embedding, SimpleRNN, Dense,\n",
        "    Conv1D, GlobalMaxPooling1D, Dropout\n",
        ")"
      ]
    },
    {
      "cell_type": "markdown",
      "source": [
        "# Data Loading"
      ],
      "metadata": {
        "id": "S0jfDQfwRRkw"
      }
    },
    {
      "cell_type": "code",
      "source": [
        "# Importing the dataset from GitHub\n",
        "github_csv_url = 'https://raw.githubusercontent.com/DyanielCX/DLI-Assm/refs/heads/main/dataset_B_05_2020_1.csv'\n",
        "raw_dataset = pd.read_csv(github_csv_url)"
      ],
      "metadata": {
        "id": "u5YA60rnRQ5V"
      },
      "execution_count": null,
      "outputs": []
    },
    {
      "cell_type": "markdown",
      "source": [
        "# Data Pre-pocessing"
      ],
      "metadata": {
        "id": "N0N8Vt67RqTL"
      }
    },
    {
      "cell_type": "code",
      "source": [
        "''' Dataset for Deep Learning '''\n",
        "# Copy the raw dataset with only 'url' and 'status' columns\n",
        "DL_dataset = raw_dataset[['url', 'status']].copy()\n",
        "DL_dataset['url'] = DL_dataset['url'].str.lower()\n",
        "\n",
        "# Encode status column\n",
        "label_encoder = LabelEncoder()\n",
        "DL_dataset['status'] = label_encoder.fit_transform(DL_dataset['status'])\n",
        "\n",
        "# Tokenize URLs for RNN\n",
        "urls = DL_dataset['url'].astype(str).values\n",
        "labels = DL_dataset['status'].values\n",
        "\n",
        "tokenizer = Tokenizer(char_level=True)\n",
        "tokenizer.fit_on_texts(urls)\n",
        "sequences = tokenizer.texts_to_sequences(urls)\n",
        "max_len = 200\n",
        "X_padded = pad_sequences(sequences, maxlen=max_len)\n",
        "vocab_size = len(tokenizer.word_index) + 1\n",
        "\n",
        "# Keep text + label for DL\n",
        "df = raw_dataset[[\"url\", \"status\"]].dropna().copy()\n",
        "df[\"url\"] = df[\"url\"].astype(str).str.lower()\n",
        "y = df[\"status\"].astype(int).values\n",
        "texts = df[\"url\"].tolist()\n",
        "\n",
        "''' Dataset for Machine Learning '''\n",
        "# Copy the raw dataset\n",
        "ML_dataset = raw_dataset.copy()\n",
        "\n",
        "# Drop the URL columns (ML only need numeric vectors data)\n",
        "if 'url' in ML_dataset.columns:\n",
        "    ML_dataset = ML_dataset.drop(columns=['url'])"
      ],
      "metadata": {
        "id": "aXrf4q6MRr-T"
      },
      "execution_count": null,
      "outputs": []
    },
    {
      "cell_type": "markdown",
      "source": [
        "# Model Used\n",
        "\n",
        "\n",
        "\n"
      ],
      "metadata": {
        "id": "eZIyu9ZVSvLg"
      }
    },
    {
      "cell_type": "markdown",
      "source": [
        "*   **Dyaniel** -> Recurrent Nueral Network (RNN) + Cluster Labeling K-Means (CL K-Means)\n",
        "*   **Ho Feng Sheng** -> Convolutional Nueral Network (CNN) + Support Vector Machine (SVM)\n",
        "*   **Lee Zhen Yong** -> Random Forest\n",
        "*   **Lee Guo Xi** -> Long Short-Term Memory (LSTM)"
      ],
      "metadata": {
        "id": "hJKOjO2lITC_"
      }
    },
    {
      "cell_type": "markdown",
      "source": [
        "# Model Training"
      ],
      "metadata": {
        "id": "6eWBHUTLUK6B"
      }
    },
    {
      "cell_type": "markdown",
      "source": [
        "## Dyaniel Model Training (RNN + CL K-Means)"
      ],
      "metadata": {
        "id": "coDLzeRIUWij"
      }
    },
    {
      "cell_type": "markdown",
      "source": [
        "### 1. RNN Deep Learning Model"
      ],
      "metadata": {
        "id": "PcL-PiPkUh0l"
      }
    },
    {
      "cell_type": "code",
      "source": [
        "# Set start time for recording the model training time\n",
        "dy_train_start_time = time.time()\n",
        "\n",
        "# Set a random seed for reproducibility\n",
        "np.random.seed(42)\n",
        "\n",
        "# Train/test split\n",
        "dy_X_train, dy_X_test, dy_y_train, dy_y_test = train_test_split(\n",
        "    X_padded, labels, test_size=0.2, random_state=42, stratify=labels\n",
        ")\n",
        "\n",
        "# Build RNN model\n",
        "input_layer = Input(shape=(max_len,))\n",
        "embedding = Embedding(input_dim=vocab_size, output_dim=32)(input_layer)\n",
        "rnn_output = SimpleRNN(64, return_sequences=False, name=\"rnn_features\")(embedding)\n",
        "output = Dense(1, activation='sigmoid')(rnn_output)\n",
        "\n",
        "RNN_model = Model(inputs=input_layer, outputs=output)\n",
        "RNN_model.compile(optimizer='adam', loss='binary_crossentropy', metrics=['accuracy'])\n",
        "\n",
        "# Train RNN with custom settings\n",
        "RNN_model.fit(\n",
        "    dy_X_train,\n",
        "    dy_y_train,\n",
        "    epochs=10,\n",
        "    batch_size=32,\n",
        "    validation_split=0.2,\n",
        "    verbose=1\n",
        ")"
      ],
      "metadata": {
        "colab": {
          "base_uri": "https://localhost:8080/"
        },
        "id": "YuUpeV-eUdTo",
        "outputId": "1a870c5f-9d8b-44ae-b7a5-a1e653c2f29b"
      },
      "execution_count": null,
      "outputs": [
        {
          "output_type": "stream",
          "name": "stdout",
          "text": [
            "Epoch 1/10\n",
            "\u001b[1m229/229\u001b[0m \u001b[32m━━━━━━━━━━━━━━━━━━━━\u001b[0m\u001b[37m\u001b[0m \u001b[1m29s\u001b[0m 103ms/step - accuracy: 0.5764 - loss: 0.6722 - val_accuracy: 0.6873 - val_loss: 0.5869\n",
            "Epoch 2/10\n",
            "\u001b[1m229/229\u001b[0m \u001b[32m━━━━━━━━━━━━━━━━━━━━\u001b[0m\u001b[37m\u001b[0m \u001b[1m9s\u001b[0m 41ms/step - accuracy: 0.7474 - loss: 0.5196 - val_accuracy: 0.8196 - val_loss: 0.4131\n",
            "Epoch 3/10\n",
            "\u001b[1m229/229\u001b[0m \u001b[32m━━━━━━━━━━━━━━━━━━━━\u001b[0m\u001b[37m\u001b[0m \u001b[1m11s\u001b[0m 46ms/step - accuracy: 0.8145 - loss: 0.4119 - val_accuracy: 0.8207 - val_loss: 0.4201\n",
            "Epoch 4/10\n",
            "\u001b[1m229/229\u001b[0m \u001b[32m━━━━━━━━━━━━━━━━━━━━\u001b[0m\u001b[37m\u001b[0m \u001b[1m20s\u001b[0m 46ms/step - accuracy: 0.8357 - loss: 0.3777 - val_accuracy: 0.8387 - val_loss: 0.3677\n",
            "Epoch 5/10\n",
            "\u001b[1m229/229\u001b[0m \u001b[32m━━━━━━━━━━━━━━━━━━━━\u001b[0m\u001b[37m\u001b[0m \u001b[1m21s\u001b[0m 46ms/step - accuracy: 0.8597 - loss: 0.3344 - val_accuracy: 0.8436 - val_loss: 0.3487\n",
            "Epoch 6/10\n",
            "\u001b[1m229/229\u001b[0m \u001b[32m━━━━━━━━━━━━━━━━━━━━\u001b[0m\u001b[37m\u001b[0m \u001b[1m13s\u001b[0m 55ms/step - accuracy: 0.8658 - loss: 0.3257 - val_accuracy: 0.8496 - val_loss: 0.3354\n",
            "Epoch 7/10\n",
            "\u001b[1m229/229\u001b[0m \u001b[32m━━━━━━━━━━━━━━━━━━━━\u001b[0m\u001b[37m\u001b[0m \u001b[1m18s\u001b[0m 46ms/step - accuracy: 0.8685 - loss: 0.3023 - val_accuracy: 0.8551 - val_loss: 0.3315\n",
            "Epoch 8/10\n",
            "\u001b[1m229/229\u001b[0m \u001b[32m━━━━━━━━━━━━━━━━━━━━\u001b[0m\u001b[37m\u001b[0m \u001b[1m11s\u001b[0m 46ms/step - accuracy: 0.8651 - loss: 0.3200 - val_accuracy: 0.8229 - val_loss: 0.4009\n",
            "Epoch 9/10\n",
            "\u001b[1m229/229\u001b[0m \u001b[32m━━━━━━━━━━━━━━━━━━━━\u001b[0m\u001b[37m\u001b[0m \u001b[1m20s\u001b[0m 46ms/step - accuracy: 0.8799 - loss: 0.2993 - val_accuracy: 0.8289 - val_loss: 0.3916\n",
            "Epoch 10/10\n",
            "\u001b[1m229/229\u001b[0m \u001b[32m━━━━━━━━━━━━━━━━━━━━\u001b[0m\u001b[37m\u001b[0m \u001b[1m20s\u001b[0m 45ms/step - accuracy: 0.8886 - loss: 0.2764 - val_accuracy: 0.8617 - val_loss: 0.3179\n"
          ]
        },
        {
          "output_type": "execute_result",
          "data": {
            "text/plain": [
              "<keras.src.callbacks.history.History at 0x7f56b8ff3560>"
            ]
          },
          "metadata": {},
          "execution_count": 5
        }
      ]
    },
    {
      "cell_type": "markdown",
      "source": [
        "### 2. Extract RNN Features & Merge with ML_Dataset"
      ],
      "metadata": {
        "id": "rNVmPQ_xVtpA"
      }
    },
    {
      "cell_type": "code",
      "source": [
        "# Create a new model that outputs the RNN layer\n",
        "feature_extractor = Model(\n",
        "    inputs=RNN_model.input,\n",
        "    outputs=RNN_model.get_layer(\"rnn_features\").output  # 'rnn_features' is the layer name\n",
        ")\n",
        "\n",
        "try:\n",
        "    # Apply it on the full padded URL input\n",
        "    rnn_features = feature_extractor.predict(X_padded)\n",
        "\n",
        "    # Convert to DataFrame\n",
        "    rnn_feature_df = pd.DataFrame(\n",
        "        rnn_features,\n",
        "        columns=[f\"rnn_feat_{i}\" for i in range(rnn_features.shape[1])]\n",
        "    )\n",
        "except Exception as e:\n",
        "    print(f\"❌ An error occurred during RNN feature extraction: {e}\")\n",
        "finally:\n",
        "    print(\"✅ RNN feature extraction process done.\")\n",
        "\n",
        "\n",
        "try:\n",
        "  # Drop \"status\" column and reset index\n",
        "  ml_only = ML_dataset.drop(columns=['status']).reset_index(drop=True)\n",
        "\n",
        "  # Standardize ML features\n",
        "  scaler = StandardScaler()\n",
        "  ml_scaled = scaler.fit_transform(ml_only)\n",
        "  ml_scaled_df = pd.DataFrame(ml_scaled, columns=ml_only.columns)\n",
        "\n",
        "  # Combine with RNN features\n",
        "  combined_features = pd.concat([ml_scaled_df, rnn_feature_df], axis=1)\n",
        "\n",
        "  # Reattach \"status\" column\n",
        "  ML_combined_dataset = combined_features.copy()\n",
        "  ML_combined_dataset['status'] = ML_dataset['status'].reset_index(drop=True)\n",
        "\n",
        "except Exception as e:\n",
        "    print(f\"❌ An error occurred during ML dataset merging: {e}\")\n",
        "finally:\n",
        "    print(\"✅ ML dataset merging done.\")\n",
        "    print(\"Final merged and scaled dataset shape:\", ML_dataset.shape)"
      ],
      "metadata": {
        "colab": {
          "base_uri": "https://localhost:8080/"
        },
        "id": "XZpSqP4XV5OY",
        "outputId": "70bfad7a-2852-4be5-8529-83232046ec31"
      },
      "execution_count": null,
      "outputs": [
        {
          "output_type": "stream",
          "name": "stdout",
          "text": [
            "\u001b[1m358/358\u001b[0m \u001b[32m━━━━━━━━━━━━━━━━━━━━\u001b[0m\u001b[37m\u001b[0m \u001b[1m4s\u001b[0m 12ms/step\n",
            "✅ RNN feature extraction process done.\n",
            "✅ ML dataset merging done.\n",
            "Final merged and scaled dataset shape: (11430, 88)\n"
          ]
        }
      ]
    },
    {
      "cell_type": "markdown",
      "source": [
        "### 3. CL_K-Means Machine Learning"
      ],
      "metadata": {
        "id": "eFS298tNWV7D"
      }
    },
    {
      "cell_type": "code",
      "source": [
        "X = ML_combined_dataset.drop(columns=['status'])\n",
        "y = ML_combined_dataset['status']\n",
        "\n",
        "# Find the Best k using BO-TPE (Bayesian Optimization)\n",
        "search_space = {'n_clusters': Integer(2, 10)}\n",
        "opt_kmeans = BayesSearchCV(KMeans(random_state=42), search_space, n_iter=10, cv=3, scoring='accuracy', verbose=0)\n",
        "opt_kmeans.fit(X, y)\n",
        "best_k = opt_kmeans.best_params_['n_clusters']\n",
        "print(f\"✅ Best k found by BO-TPE: {best_k}\")\n",
        "\n",
        "# Train CL-KMeans\n",
        "kmeans = KMeans(n_clusters=best_k, random_state=42)\n",
        "clusters = kmeans.fit_predict(X)\n",
        "\n",
        "# Map clusters to true labels using majority voting\n",
        "mapped_labels = np.zeros_like(clusters)\n",
        "for i in range(best_k):\n",
        "    mask = (clusters == i)\n",
        "    mapped_labels[mask] = mode(y[mask])[0]\n",
        "\n",
        "# Train Random Forest for Bias Correction\n",
        "dy2_X_train, dy2_X_test, dy2_y_train, dy2_y_test = train_test_split(X, mapped_labels, test_size=0.2, stratify=y, random_state=42)\n",
        "bias_corrector = RandomForestClassifier(random_state=42)\n",
        "bias_corrector.fit(dy2_X_train, dy2_y_train)\n",
        "\n",
        "# Get the model training time\n",
        "dy_training_time = time.time() - dy_train_start_time\n",
        "dy_training_time = round(dy_training_time / 60, 4)"
      ],
      "metadata": {
        "colab": {
          "base_uri": "https://localhost:8080/"
        },
        "id": "kU24je9pWZUx",
        "outputId": "f359baf5-9f98-4f39-a858-9b135bc9e0af"
      },
      "execution_count": null,
      "outputs": [
        {
          "output_type": "stream",
          "name": "stdout",
          "text": [
            "✅ Best k found by BO-TPE: 2\n"
          ]
        }
      ]
    },
    {
      "cell_type": "markdown",
      "source": [
        "## Ho Feng Sheng Model Training (CNN + SVM)"
      ],
      "metadata": {
        "id": "5TISV1BxaQ3k"
      }
    },
    {
      "cell_type": "markdown",
      "source": [
        "### 1. Train CNN to Learn from URL"
      ],
      "metadata": {
        "id": "AJk-X0oWdKHK"
      }
    },
    {
      "cell_type": "code",
      "source": [
        "# Set start time for recording the model training time\n",
        "js_train_start_time = time.time()\n",
        "\n",
        "# Set a random seed for reproducibility\n",
        "np.random.seed(42)\n",
        "\n",
        "# CNN architecture\n",
        "input_layer = Input(shape=(200,))\n",
        "embedding = Embedding(input_dim=vocab_size, output_dim=128)(input_layer)\n",
        "conv = Conv1D(filters=256, kernel_size=5, activation='relu')(embedding)\n",
        "drop = Dropout(0.3)(conv)\n",
        "pool = GlobalMaxPooling1D(name=\"cnn_features\")(drop)\n",
        "output_layer = Dense(1, activation='sigmoid')(pool)\n",
        "\n",
        "# Compile model\n",
        "CNN_model = Model(inputs=input_layer, outputs=output_layer)\n",
        "CNN_model.compile(optimizer='adam', loss='binary_crossentropy', metrics=['accuracy'])\n",
        "\n",
        "# Split for DL training only\n",
        "js_X_train_dl, js_X_test_dl, js_y_train_dl, js_y_test_dl = train_test_split(X_padded, y, test_size=0.2, stratify=y, random_state=42)\n",
        "\n",
        "# Train CNN model\n",
        "CNN_model.fit(js_X_train_dl, js_y_train_dl, epochs=5, batch_size=128, validation_split=0.1, verbose=1)\n",
        "\n"
      ],
      "metadata": {
        "colab": {
          "base_uri": "https://localhost:8080/"
        },
        "id": "hQsapJhndJsx",
        "outputId": "ae107da2-d5f8-441a-c644-e4675e795aea"
      },
      "execution_count": null,
      "outputs": [
        {
          "output_type": "stream",
          "name": "stdout",
          "text": [
            "Epoch 1/5\n",
            "\u001b[1m65/65\u001b[0m \u001b[32m━━━━━━━━━━━━━━━━━━━━\u001b[0m\u001b[37m\u001b[0m \u001b[1m38s\u001b[0m 555ms/step - accuracy: 0.7138 - loss: 0.5802 - val_accuracy: 0.8175 - val_loss: 0.4029\n",
            "Epoch 2/5\n",
            "\u001b[1m65/65\u001b[0m \u001b[32m━━━━━━━━━━━━━━━━━━━━\u001b[0m\u001b[37m\u001b[0m \u001b[1m34s\u001b[0m 530ms/step - accuracy: 0.8433 - loss: 0.3646 - val_accuracy: 0.8776 - val_loss: 0.3179\n",
            "Epoch 3/5\n",
            "\u001b[1m65/65\u001b[0m \u001b[32m━━━━━━━━━━━━━━━━━━━━\u001b[0m\u001b[37m\u001b[0m \u001b[1m42s\u001b[0m 546ms/step - accuracy: 0.8840 - loss: 0.2879 - val_accuracy: 0.9060 - val_loss: 0.2738\n",
            "Epoch 4/5\n",
            "\u001b[1m65/65\u001b[0m \u001b[32m━━━━━━━━━━━━━━━━━━━━\u001b[0m\u001b[37m\u001b[0m \u001b[1m41s\u001b[0m 554ms/step - accuracy: 0.9003 - loss: 0.2476 - val_accuracy: 0.9137 - val_loss: 0.2506\n",
            "Epoch 5/5\n",
            "\u001b[1m65/65\u001b[0m \u001b[32m━━━━━━━━━━━━━━━━━━━━\u001b[0m\u001b[37m\u001b[0m \u001b[1m36s\u001b[0m 551ms/step - accuracy: 0.9124 - loss: 0.2193 - val_accuracy: 0.9137 - val_loss: 0.2357\n"
          ]
        },
        {
          "output_type": "execute_result",
          "data": {
            "text/plain": [
              "<keras.src.callbacks.history.History at 0x7f56b913e1e0>"
            ]
          },
          "metadata": {},
          "execution_count": 8
        }
      ]
    },
    {
      "cell_type": "markdown",
      "source": [
        "### 2. Extract CNN Features & Merge with ML Features"
      ],
      "metadata": {
        "id": "nuTzDiPrdJVd"
      }
    },
    {
      "cell_type": "code",
      "source": [
        "# Create a feature extractor model that outputs from 'cnn_features' layer\n",
        "feature_extractor = Model(inputs=CNN_model.input,\n",
        "                          outputs=CNN_model.get_layer(\"cnn_features\").output)\n",
        "\n",
        "# Apply on all padded URL sequences to extract CNN features\n",
        "cnn_features = feature_extractor.predict(X_padded)\n",
        "\n",
        "# Standardize ML numerical features\n",
        "ml_features = raw_dataset.drop(columns=['url', 'status'])\n",
        "scaler = StandardScaler()\n",
        "ml_scaled = scaler.fit_transform(ml_features)\n",
        "\n",
        "# Combine CNN features with numeric ML features\n",
        "X_combined = np.hstack([cnn_features, ml_scaled])"
      ],
      "metadata": {
        "colab": {
          "base_uri": "https://localhost:8080/"
        },
        "id": "axabBgvPeSg8",
        "outputId": "44bdebc7-429e-48f2-dd40-e5fc92fb4166"
      },
      "execution_count": null,
      "outputs": [
        {
          "output_type": "stream",
          "name": "stdout",
          "text": [
            "\u001b[1m358/358\u001b[0m \u001b[32m━━━━━━━━━━━━━━━━━━━━\u001b[0m\u001b[37m\u001b[0m \u001b[1m13s\u001b[0m 35ms/step\n"
          ]
        }
      ]
    },
    {
      "cell_type": "markdown",
      "source": [
        "### 3. Train Final SVM Classifier"
      ],
      "metadata": {
        "id": "pmfZjw-WfQIU"
      }
    },
    {
      "cell_type": "code",
      "source": [
        "js2_X_train, js2_X_test, js2_y_train, js2_y_test = train_test_split(X_combined, y, test_size=0.2, stratify=y, random_state=42)\n",
        "\n",
        "svm_model = LinearSVC(\n",
        "    loss=\"squared_hinge\", penalty='l2', dual=True, max_iter=100000,\n",
        "    tol=1e-3, class_weight='balanced', C=1.0, random_state=42\n",
        ")\n",
        "\n",
        "svm_model.fit(js2_X_train, js2_y_train)\n",
        "\n",
        "# Get the model training time\n",
        "js_training_time = time.time() - js_train_start_time\n",
        "js_training_time = round(js_training_time / 60, 4)"
      ],
      "metadata": {
        "id": "P4_cCXTmfSrt"
      },
      "execution_count": null,
      "outputs": []
    },
    {
      "cell_type": "markdown",
      "source": [
        "## Lee Zhen Yong Model Training (Random Forest)"
      ],
      "metadata": {
        "id": "6rB4GirqStRM"
      }
    },
    {
      "cell_type": "markdown",
      "source": [
        "## Lee Guo Xi Model Training (LSTM)"
      ],
      "metadata": {
        "id": "AuS4X2yLS4b1"
      }
    },
    {
      "cell_type": "markdown",
      "source": [
        "### 1. Character-level tokenization"
      ],
      "metadata": {
        "id": "cGmC8NEGUR7T"
      }
    },
    {
      "cell_type": "code",
      "source": [
        "# Keep punctuation/symbols: set filters=\"\" and char_level=True\n",
        "tok = Tokenizer(char_level=True, lower=True, filters=\"\")\n",
        "tok.fit_on_texts(texts)\n",
        "seqs = tok.texts_to_sequences(texts)\n",
        "lengths = np.array([len(s) for s in seqs])\n",
        "\n",
        "# Use 95th percentile as maxlen to avoid over-padding\n",
        "maxlen = int(np.percentile(lengths, 95))\n",
        "maxlen = max(maxlen, 64)\n",
        "X = pad_sequences(seqs, maxlen=maxlen, padding=\"post\", truncating=\"post\")"
      ],
      "metadata": {
        "id": "1A7AixoWUThT"
      },
      "execution_count": null,
      "outputs": []
    },
    {
      "cell_type": "markdown",
      "source": [
        "### 2. Train/Val/Test split"
      ],
      "metadata": {
        "id": "iG-M6QsFTUAw"
      }
    },
    {
      "cell_type": "code",
      "source": [
        "# Set a random seed for reproducibility\n",
        "# np.random.seed(42)\n",
        "\n",
        "# Set start time for recording the model training time\n",
        "guoxi_train_start_time = time.time()\n",
        "\n",
        "guoxi_X_train, guoxi_X_test, guoxi_y_train, guoxi_y_test = train_test_split(\n",
        "    X, y, test_size=0.20, random_state=42, stratify=y\n",
        ")\n",
        "X_train, X_val, y_train, y_val = train_test_split(\n",
        "    guoxi_X_train, guoxi_y_train, test_size=0.10, random_state=42, stratify=guoxi_y_train\n",
        ")\n",
        "\n",
        "vocab_size = len(tok.word_index) + 1\n",
        "print(\"Vocab size (chars):\", vocab_size)"
      ],
      "metadata": {
        "colab": {
          "base_uri": "https://localhost:8080/"
        },
        "id": "32hy1-QqTBEE",
        "outputId": "e713104e-9420-4dab-fc19-9fd3a445dcdd"
      },
      "execution_count": null,
      "outputs": [
        {
          "output_type": "stream",
          "name": "stdout",
          "text": [
            "Vocab size (chars): 74\n"
          ]
        }
      ]
    },
    {
      "cell_type": "markdown",
      "source": [
        "### 3. Build LSTM model"
      ],
      "metadata": {
        "id": "bboGYxhaVMOn"
      }
    },
    {
      "cell_type": "code",
      "source": [
        "def build_model_v2(vocab, seq_len, emb_dim=128, lstm_units=128, lr=1e-3):\n",
        "    inp = layers.Input(shape=(seq_len,), dtype=\"int32\")\n",
        "\n",
        "    # Embedding + regularization\n",
        "    x = layers.Embedding(vocab, emb_dim, input_length=seq_len)(inp)\n",
        "    x = layers.SpatialDropout1D(0.2)(x)\n",
        "\n",
        "    # Local n-gram features\n",
        "    x = layers.Conv1D(128, kernel_size=5, activation=\"relu\", padding=\"same\")(x)\n",
        "    x = layers.MaxPooling1D(pool_size=2)(x)\n",
        "\n",
        "    # Deeper sequence modeling\n",
        "    x = layers.Bidirectional(layers.LSTM(lstm_units, return_sequences=True))(x)\n",
        "    x = layers.Bidirectional(layers.LSTM(lstm_units))(x)\n",
        "\n",
        "    # Classifier head\n",
        "    x = layers.Dense(128, activation=\"relu\")(x)\n",
        "    x = layers.Dropout(0.5)(x)   # stronger regularization\n",
        "\n",
        "    out = layers.Dense(1, activation=\"sigmoid\")(x)\n",
        "\n",
        "    model = models.Model(inp, out)\n",
        "    model.compile(\n",
        "        optimizer=optimizers.Adam(learning_rate=lr),\n",
        "        loss=\"binary_crossentropy\",\n",
        "        metrics=[\"accuracy\"]\n",
        "    )\n",
        "    return model\n",
        "\n",
        "model = build_model_v2(vocab_size, maxlen, emb_dim=128, lstm_units=128, lr=1e-3)\n",
        "\n",
        "es = callbacks.EarlyStopping(monitor=\"val_loss\", patience=5, restore_best_weights=True)\n",
        "rlr = callbacks.ReduceLROnPlateau(monitor=\"val_loss\", factor=0.5, patience=3, min_lr=1e-6)\n"
      ],
      "metadata": {
        "id": "n5wVid_TVQy2",
        "colab": {
          "base_uri": "https://localhost:8080/"
        },
        "outputId": "402a4321-fbec-432e-e1c5-c90d2d604e3e"
      },
      "execution_count": null,
      "outputs": [
        {
          "output_type": "stream",
          "name": "stderr",
          "text": [
            "/usr/local/lib/python3.12/dist-packages/keras/src/layers/core/embedding.py:97: UserWarning: Argument `input_length` is deprecated. Just remove it.\n",
            "  warnings.warn(\n"
          ]
        }
      ]
    },
    {
      "cell_type": "markdown",
      "source": [
        "### 4. Train + measure time"
      ],
      "metadata": {
        "id": "E7-ysgS-VWKm"
      }
    },
    {
      "cell_type": "code",
      "source": [
        "hist = model.fit(\n",
        "    X_train, y_train,\n",
        "    validation_data=(X_val, y_val),\n",
        "    epochs=7,\n",
        "    batch_size=256,\n",
        "    callbacks=[es, rlr],\n",
        "    verbose=1\n",
        ")\n",
        "\n",
        "# Get the model training time\n",
        "guoxi_training_time = time.time() - guoxi_train_start_time\n",
        "guoxi_training_time = round(guoxi_training_time / 60, 4)"
      ],
      "metadata": {
        "colab": {
          "base_uri": "https://localhost:8080/"
        },
        "id": "TYxHeVMQVVZn",
        "outputId": "fbd42d95-defe-4ca4-d1f2-043cbe4682cd"
      },
      "execution_count": null,
      "outputs": [
        {
          "output_type": "stream",
          "name": "stdout",
          "text": [
            "Epoch 1/7\n",
            "\u001b[1m33/33\u001b[0m \u001b[32m━━━━━━━━━━━━━━━━━━━━\u001b[0m\u001b[37m\u001b[0m \u001b[1m77s\u001b[0m 2s/step - accuracy: 0.6205 - loss: 0.6315 - val_accuracy: 0.7956 - val_loss: 0.4349 - learning_rate: 0.0010\n",
            "Epoch 2/7\n",
            "\u001b[1m33/33\u001b[0m \u001b[32m━━━━━━━━━━━━━━━━━━━━\u001b[0m\u001b[37m\u001b[0m \u001b[1m75s\u001b[0m 2s/step - accuracy: 0.7930 - loss: 0.4412 - val_accuracy: 0.8514 - val_loss: 0.3380 - learning_rate: 0.0010\n",
            "Epoch 3/7\n",
            "\u001b[1m33/33\u001b[0m \u001b[32m━━━━━━━━━━━━━━━━━━━━\u001b[0m\u001b[37m\u001b[0m \u001b[1m83s\u001b[0m 2s/step - accuracy: 0.8574 - loss: 0.3305 - val_accuracy: 0.8678 - val_loss: 0.3005 - learning_rate: 0.0010\n",
            "Epoch 4/7\n",
            "\u001b[1m33/33\u001b[0m \u001b[32m━━━━━━━━━━━━━━━━━━━━\u001b[0m\u001b[37m\u001b[0m \u001b[1m81s\u001b[0m 2s/step - accuracy: 0.8789 - loss: 0.2940 - val_accuracy: 0.8918 - val_loss: 0.2750 - learning_rate: 0.0010\n",
            "Epoch 5/7\n",
            "\u001b[1m33/33\u001b[0m \u001b[32m━━━━━━━━━━━━━━━━━━━━\u001b[0m\u001b[37m\u001b[0m \u001b[1m82s\u001b[0m 2s/step - accuracy: 0.8985 - loss: 0.2528 - val_accuracy: 0.8743 - val_loss: 0.3292 - learning_rate: 0.0010\n",
            "Epoch 6/7\n",
            "\u001b[1m33/33\u001b[0m \u001b[32m━━━━━━━━━━━━━━━━━━━━\u001b[0m\u001b[37m\u001b[0m \u001b[1m84s\u001b[0m 2s/step - accuracy: 0.9022 - loss: 0.2484 - val_accuracy: 0.8973 - val_loss: 0.2491 - learning_rate: 0.0010\n",
            "Epoch 7/7\n",
            "\u001b[1m33/33\u001b[0m \u001b[32m━━━━━━━━━━━━━━━━━━━━\u001b[0m\u001b[37m\u001b[0m \u001b[1m79s\u001b[0m 2s/step - accuracy: 0.9136 - loss: 0.2110 - val_accuracy: 0.8984 - val_loss: 0.2529 - learning_rate: 0.0010\n"
          ]
        }
      ]
    },
    {
      "cell_type": "code",
      "source": [
        "# Prediction time per sample (ms)\n",
        "t2 = time.perf_counter()\n",
        "y_proba = model.predict(guoxi_X_test, batch_size=512).ravel()\n",
        "t3 = time.perf_counter()\n",
        "pred_time_ms_per_sample = ((t3 - t2) / len(guoxi_X_test)) * 1000.0\n",
        "\n",
        "guoxi_y_pred = (y_proba >= 0.5).astype(int)\n",
        "\n",
        "guoxi_acc  = accuracy_score(guoxi_y_test, guoxi_y_pred)\n",
        "guoxi_prec = precision_score(guoxi_y_test, guoxi_y_pred, zero_division=0)\n",
        "guoxi_rec  = recall_score(guoxi_y_test, guoxi_y_pred, zero_division=0)\n",
        "guoxi_f1   = f1_score(guoxi_y_test, guoxi_y_pred, zero_division=0)\n",
        "guoxi_auc  = roc_auc_score(guoxi_y_test, y_proba)\n"
      ],
      "metadata": {
        "colab": {
          "base_uri": "https://localhost:8080/"
        },
        "id": "gPz1spskVczB",
        "outputId": "b50f5acf-50ff-4439-d040-83de3f41880d"
      },
      "execution_count": null,
      "outputs": [
        {
          "output_type": "stream",
          "name": "stdout",
          "text": [
            "\u001b[1m5/5\u001b[0m \u001b[32m━━━━━━━━━━━━━━━━━━━━\u001b[0m\u001b[37m\u001b[0m \u001b[1m7s\u001b[0m 1s/step\n"
          ]
        }
      ]
    },
    {
      "cell_type": "markdown",
      "source": [
        "# Model Evaluation Metrics"
      ],
      "metadata": {
        "id": "xgdHgKZcXPa6"
      }
    },
    {
      "cell_type": "markdown",
      "source": [
        "## Get Model Metrics"
      ],
      "metadata": {
        "id": "xXdzeFF_E-83"
      }
    },
    {
      "cell_type": "code",
      "source": [
        "''' Get Dyaniel Model Metrics '''\n",
        "# Calculate Prediction Time\n",
        "dy_pred_start_time = time.time()\n",
        "dy_corrected_preds = bias_corrector.predict(dy2_X_test)\n",
        "dy_prediction_time = time.time() - dy_pred_start_time\n",
        "dy_prediction_time = round(dy_prediction_time * 1000, 4)\n",
        "\n",
        "# Calculate Evaluation Metrics\n",
        "dy_accuracy = accuracy_score(dy2_y_test, dy_corrected_preds)\n",
        "precision = precision_score(dy2_y_test, dy_corrected_preds, average='weighted')\n",
        "recall = recall_score(dy2_y_test, dy_corrected_preds, average='weighted')\n",
        "dy_f1 = f1_score(dy2_y_test, dy_corrected_preds, average='weighted')\n",
        "\n",
        "''' Get Joseph Model Metrics '''\n",
        "# Calculate Prediction Time\n",
        "js_predict_start_time = time.time()\n",
        "js_corrected_preds = svm_model.predict(js2_X_test)\n",
        "js_prediction_time = time.time() - js_predict_start_time\n",
        "js_prediction_time = round(js_prediction_time * 1000, 4)\n",
        "\n",
        "# Calculate Evaluation Metrics\n",
        "js_y_scores = svm_model.decision_function(js2_X_test)\n",
        "js_accuracy = accuracy_score(js2_y_test, js_corrected_preds)\n",
        "js_precision = precision_score(js2_y_test, js_corrected_preds)\n",
        "js_recall = recall_score(js2_y_test, js_corrected_preds)\n",
        "js_f1 = f1_score(js2_y_test, js_corrected_preds)\n",
        "js_roc_auc = roc_auc_score(js2_y_test, js_y_scores)\n",
        "\n",
        "''' Get Lee Zhen Yong Model Metrics '''\n",
        "\n",
        "\n",
        "''' Get Lee Guo Xi Model Metrics '''\n",
        "# Calculate Prediction Time\n",
        "t2 = time.perf_counter()\n",
        "y_proba = model.predict(guoxi_X_test, batch_size=512).ravel()\n",
        "t3 = time.perf_counter()\n",
        "pred_time_ms_per_sample = ((t3 - t2) / len(guoxi_X_test))\n",
        "guoxi_prediction_time = round(pred_time_ms_per_sample * 1000, 4)\n",
        "\n",
        "# Calculate Evaluation Metrics\n",
        "guoxi_y_scores = (y_proba >= 0.5).astype(int)\n",
        "guoxi_accuracy  = accuracy_score(guoxi_y_test, guoxi_y_pred)\n",
        "guoxi_prec = precision_score(guoxi_y_test, guoxi_y_pred, zero_division=0)\n",
        "guoxi_precision  = recall_score(guoxi_y_test, guoxi_y_pred, zero_division=0)\n",
        "guoxi_f1   = f1_score(guoxi_y_test, guoxi_y_pred, zero_division=0)\n",
        "guoxi_roc_auc  = roc_auc_score(guoxi_y_test, y_proba)"
      ],
      "metadata": {
        "id": "8zNw0LNaXj8s",
        "colab": {
          "base_uri": "https://localhost:8080/"
        },
        "outputId": "84404409-7ccd-4d63-b849-6e1e49be7d8d"
      },
      "execution_count": null,
      "outputs": [
        {
          "output_type": "stream",
          "name": "stdout",
          "text": [
            "\u001b[1m5/5\u001b[0m \u001b[32m━━━━━━━━━━━━━━━━━━━━\u001b[0m\u001b[37m\u001b[0m \u001b[1m5s\u001b[0m 956ms/step\n"
          ]
        }
      ]
    },
    {
      "cell_type": "markdown",
      "source": [
        "## Confusion Matrix"
      ],
      "metadata": {
        "id": "0FG6BYvJFDCT"
      }
    },
    {
      "cell_type": "code",
      "source": [
        "# Combined Confusion Matrix\n",
        "fig, axes = plt.subplots(1, 3, figsize=(18, 5))\n",
        "\n",
        "# Dyaniel Model Confusion Matrix\n",
        "cm_dy = confusion_matrix(dy2_y_test, dy_corrected_preds)\n",
        "sns.heatmap(cm_dy, annot=True, fmt=\"d\", cmap=\"Blues\",\n",
        "            xticklabels=[\"Benign\", \"Phishing\"],\n",
        "            yticklabels=[\"Benign\", \"Phishing\"], ax=axes[0])\n",
        "axes[0].set_title(\"Confusion Matrix (Dyaniel Model)\")\n",
        "axes[0].set_xlabel(\"Predicted\")\n",
        "axes[0].set_ylabel(\"Actual\")\n",
        "\n",
        "# Joseph Model Confusion Matrix\n",
        "cm_js = confusion_matrix(js2_y_test, js_corrected_preds)\n",
        "sns.heatmap(cm_js, annot=True, fmt=\"d\", cmap=\"Blues\",\n",
        "            xticklabels=[\"Benign\", \"Phishing\"],\n",
        "            yticklabels=[\"Benign\", \"Phishing\"], ax=axes[1])\n",
        "axes[1].set_title(\"Confusion Matrix (Joseph Model)\")\n",
        "axes[1].set_xlabel(\"Predicted\")\n",
        "axes[1].set_ylabel(\"Actual\")\n",
        "\n",
        "# Lee Guo Xi Model Confusion Matrix (LSTM)\n",
        "cm_guoxi = confusion_matrix(guoxi_y_test, guoxi_y_pred)\n",
        "sns.heatmap(cm_guoxi, annot=True, fmt=\"d\", cmap=\"Blues\",\n",
        "            xticklabels=[\"Benign\", \"Phishing\"],\n",
        "            yticklabels=[\"Benign\", \"Phishing\"], ax=axes[2])\n",
        "axes[2].set_title(\"Confusion Matrix (Lee Guo Xi Model)\")\n",
        "axes[2].set_xlabel(\"Predicted\")\n",
        "axes[2].set_ylabel(\"Actual\")\n",
        "\n",
        "\n",
        "plt.tight_layout()\n",
        "plt.show()"
      ],
      "metadata": {
        "colab": {
          "base_uri": "https://localhost:8080/"
        },
        "id": "odHvDlPFgBXV",
        "outputId": "f538b62f-f3af-466d-b791-47433add8736"
      },
      "execution_count": null,
      "outputs": [
        {
          "output_type": "display_data",
          "data": {
            "text/plain": [
              "<Figure size 1800x500 with 6 Axes>"
            ],
            "image/png": "[encoded data removed]"
          },
          "metadata": {}
        }
      ]
    },
    {
      "cell_type": "markdown",
      "source": [
        "## ROC-AUC Curve"
      ],
      "metadata": {
        "id": "Rs04f6BtFTK_"
      }
    },
    {
      "cell_type": "code",
      "source": [
        "# Combined ROC Curve\n",
        "plt.figure(figsize=(6, 5))\n",
        "\n",
        "# Dyaniel Model ROC Curve\n",
        "if hasattr(bias_corrector, \"predict_proba\"):\n",
        "    dy_y_scores = bias_corrector.predict_proba(dy2_X_test)[:, 1]\n",
        "    dy_roc_auc = roc_auc_score(dy2_y_test, dy_y_scores)\n",
        "    fpr_dy, tpr_dy, thresholds_dy = roc_curve(dy2_y_test, dy_y_scores)\n",
        "    plt.plot(fpr_dy, tpr_dy, color='green', lw=2, label=f'Dyaniel Model (area = {dy_roc_auc:.2f})')\n",
        "else:\n",
        "    print(\"ROC curve for Dyaniel Model cannot be plotted as the model does not have 'predict_proba'.\")\n",
        "\n",
        "# Joseph Model ROC Curve\n",
        "js_y_scores = svm_model.decision_function(js2_X_test)\n",
        "js_roc_auc = roc_auc_score(js2_y_test, js_y_scores)\n",
        "fpr_js, tpr_js, thresholds_js = roc_curve(js2_y_test, js_y_scores)\n",
        "plt.plot(fpr_js, tpr_js, color='darkorange', lw=2, label=f'Joseph Model (area = {js_roc_auc:.2f})')\n",
        "\n",
        "# Lee Guo Xi Model ROC Curve (LSTM)、\n",
        "guoxi_y_scores = (y_proba >= 0.5).astype(int)\n",
        "guoxi_roc_auc = roc_auc_score(guoxi_y_test, guoxi_y_scores)\n",
        "fpr_guoxi, tpr_guoxi, thresholds_guoxi = roc_curve(guoxi_y_test, guoxi_y_scores)\n",
        "plt.plot(fpr_guoxi, tpr_guoxi, color='red', lw=2, label=f'Lee Guo Xi Model (area = {guoxi_roc_auc:.2f})')\n",
        "\n",
        "\n",
        "plt.plot([0, 1], [0, 1], color='navy', lw=2, linestyle='--')\n",
        "plt.xlim([0.0, 1.0])\n",
        "plt.ylim([0.0, 1.05])\n",
        "plt.xlabel('False Positive Rate')\n",
        "plt.ylabel('True Positive Rate')\n",
        "plt.title('Receiver Operating Characteristic (ROC) Curve Comparison')\n",
        "plt.legend(loc=\"lower right\")\n",
        "plt.tight_layout()\n",
        "plt.show()"
      ],
      "metadata": {
        "colab": {
          "base_uri": "https://localhost:8080/"
        },
        "id": "SOwnoOv-EzhJ",
        "outputId": "d025dcce-94fa-42cc-9d81-72b4fe9bf126"
      },
      "execution_count": null,
      "outputs": [
        {
          "output_type": "display_data",
          "data": {
            "text/plain": [
              "<Figure size 600x500 with 1 Axes>"
            ],
            "image/png": "[encoded data removed]"
          },
          "metadata": {}
        }
      ]
    },
    {
      "cell_type": "markdown",
      "source": [
        "## Metrics Comparison"
      ],
      "metadata": {
        "id": "2uoLrGtoFxgo"
      }
    },
    {
      "cell_type": "code",
      "metadata": {
        "colab": {
          "base_uri": "https://localhost:8080/"
        },
        "id": "5eac2158",
        "outputId": "67762287-36fb-4d72-ed88-43dd227be2cf"
      },
      "source": [
        "# Create a dictionary to store the metrics\n",
        "metrics_data = {\n",
        "    'Model': ['Dyaniel Model', 'Joseph Model', 'Lee Guo Xi Model'],\n",
        "    'Accuracy': [dy_accuracy, js_accuracy, guoxi_accuracy],\n",
        "    'Precision': [precision, js_precision, guoxi_precision],\n",
        "    'Recall': [recall, js_recall, guoxi_rec],\n",
        "    'F1-Score': [dy_f1, js_f1, guoxi_f1],\n",
        "    'Training Time (min)': [dy_training_time, js_training_time, guoxi_training_time],\n",
        "    'Prediction Time (ms)': [dy_prediction_time, js_prediction_time, guoxi_prediction_time]\n",
        "}\n",
        "\n",
        "# Create a pandas DataFrame from the dictionary\n",
        "metrics_df = pd.DataFrame(metrics_data)\n",
        "\n",
        "# Display the DataFrame\n",
        "display(metrics_df)"
      ],
      "execution_count": null,
      "outputs": [
        {
          "output_type": "display_data",
          "data": {
            "text/plain": [
              "              Model  Accuracy  Precision    Recall  F1-Score  \\\n",
              "0     Dyaniel Model  0.984689   0.984673  0.984689  0.984545   \n",
              "1      Joseph Model  0.956693   0.960317  0.952756  0.956522   \n",
              "2  Lee Guo Xi Model  0.919510   0.923885  0.923885  0.919861   \n",
              "\n",
              "   Training Time (min)  Prediction Time (ms)  \n",
              "0               3.3758               32.7787  \n",
              "1               3.8932                2.1400  \n",
              "2               9.3750                2.2674  "
            ],
            "text/html": [
              "\n",
              "  <div id=\"df-25e6a6f0-857c-4c6f-8daa-ec375987f4df\" class=\"colab-df-container\">\n",
              "    <div>\n",
              "<style scoped>\n",
              "    .dataframe tbody tr th:only-of-type {\n",
              "        vertical-align: middle;\n",
              "    }\n",
              "\n",
              "    .dataframe tbody tr th {\n",
              "        vertical-align: top;\n",
              "    }\n",
              "\n",
              "    .dataframe thead th {\n",
              "        text-align: right;\n",
              "    }\n",
              "</style>\n",
              "<table border=\"1\" class=\"dataframe\">\n",
              "  <thead>\n",
              "    <tr style=\"text-align: right;\">\n",
              "      <th></th>\n",
              "      <th>Model</th>\n",
              "      <th>Accuracy</th>\n",
              "      <th>Precision</th>\n",
              "      <th>Recall</th>\n",
              "      <th>F1-Score</th>\n",
              "      <th>Training Time (min)</th>\n",
              "      <th>Prediction Time (ms)</th>\n",
              "    </tr>\n",
              "  </thead>\n",
              "  <tbody>\n",
              "    <tr>\n",
              "      <th>0</th>\n",
              "      <td>Dyaniel Model</td>\n",
              "      <td>0.984689</td>\n",
              "      <td>0.984673</td>\n",
              "      <td>0.984689</td>\n",
              "      <td>0.984545</td>\n",
              "      <td>3.3758</td>\n",
              "      <td>32.7787</td>\n",
              "    </tr>\n",
              "    <tr>\n",
              "      <th>1</th>\n",
              "      <td>Joseph Model</td>\n",
              "      <td>0.956693</td>\n",
              "      <td>0.960317</td>\n",
              "      <td>0.952756</td>\n",
              "      <td>0.956522</td>\n",
              "      <td>3.8932</td>\n",
              "      <td>2.1400</td>\n",
              "    </tr>\n",
              "    <tr>\n",
              "      <th>2</th>\n",
              "      <td>Lee Guo Xi Model</td>\n",
              "      <td>0.919510</td>\n",
              "      <td>0.923885</td>\n",
              "      <td>0.923885</td>\n",
              "      <td>0.919861</td>\n",
              "      <td>9.3750</td>\n",
              "      <td>2.2674</td>\n",
              "    </tr>\n",
              "  </tbody>\n",
              "</table>\n",
              "</div>\n",
              "    <div class=\"colab-df-buttons\">\n",
              "\n",
              "  <div class=\"colab-df-container\">\n",
              "    <button class=\"colab-df-convert\" onclick=\"convertToInteractive('df-25e6a6f0-857c-4c6f-8daa-ec375987f4df')\"\n",
              "            title=\"Convert this dataframe to an interactive table.\"\n",
              "            style=\"display:none;\">\n",
              "\n",
              "  <svg xmlns=\"http://www.w3.org/2000/svg\" height=\"24px\" viewBox=\"0 -960 960 960\">\n",
              "    <path d=\"M120-120v-720h720v720H120Zm60-500h600v-160H180v160Zm220 220h160v-160H400v160Zm0 220h160v-160H400v160ZM180-400h160v-160H180v160Zm440 0h160v-160H620v160ZM180-180h160v-160H180v160Zm440 0h160v-160H620v160Z\"/>\n",
              "  </svg>\n",
              "    </button>\n",
              "\n",
              "  <style>\n",
              "    .colab-df-container {\n",
              "      display:flex;\n",
              "      gap: 12px;\n",
              "    }\n",
              "\n",
              "    .colab-df-convert {\n",
              "      background-color: #E8F0FE;\n",
              "      border: none;\n",
              "      border-radius: 50%;\n",
              "      cursor: pointer;\n",
              "      display: none;\n",
              "      fill: #1967D2;\n",
              "      height: 32px;\n",
              "      padding: 0 0 0 0;\n",
              "      width: 32px;\n",
              "    }\n",
              "\n",
              "    .colab-df-convert:hover {\n",
              "      background-color: #E2EBFA;\n",
              "      box-shadow: 0px 1px 2px rgba(60, 64, 67, 0.3), 0px 1px 3px 1px rgba(60, 64, 67, 0.15);\n",
              "      fill: #174EA6;\n",
              "    }\n",
              "\n",
              "    .colab-df-buttons div {\n",
              "      margin-bottom: 4px;\n",
              "    }\n",
              "\n",
              "    [theme=dark] .colab-df-convert {\n",
              "      background-color: #3B4455;\n",
              "      fill: #D2E3FC;\n",
              "    }\n",
              "\n",
              "    [theme=dark] .colab-df-convert:hover {\n",
              "      background-color: #434B5C;\n",
              "      box-shadow: 0px 1px 3px 1px rgba(0, 0, 0, 0.15);\n",
              "      filter: drop-shadow(0px 1px 2px rgba(0, 0, 0, 0.3));\n",
              "      fill: #FFFFFF;\n",
              "    }\n",
              "  </style>\n",
              "\n",
              "    <script>\n",
              "      const buttonEl =\n",
              "        document.querySelector('#df-25e6a6f0-857c-4c6f-8daa-ec375987f4df button.colab-df-convert');\n",
              "      buttonEl.style.display =\n",
              "        google.colab.kernel.accessAllowed ? 'block' : 'none';\n",
              "\n",
              "      async function convertToInteractive(key) {\n",
              "        const element = document.querySelector('#df-25e6a6f0-857c-4c6f-8daa-ec375987f4df');\n",
              "        const dataTable =\n",
              "          await google.colab.kernel.invokeFunction('convertToInteractive',\n",
              "                                                    [key], {});\n",
              "        if (!dataTable) return;\n",
              "\n",
              "        const docLinkHtml = 'Like what you see? Visit the ' +\n",
              "          '<a target=\"_blank\" href=https://colab.research.google.com/notebooks/data_table.ipynb>data table notebook</a>'\n",
              "          + ' to learn more about interactive tables.';\n",
              "        element.innerHTML = '';\n",
              "        dataTable['output_type'] = 'display_data';\n",
              "        await google.colab.output.renderOutput(dataTable, element);\n",
              "        const docLink = document.createElement('div');\n",
              "        docLink.innerHTML = docLinkHtml;\n",
              "        element.appendChild(docLink);\n",
              "      }\n",
              "    </script>\n",
              "  </div>\n",
              "\n",
              "\n",
              "    <div id=\"df-e517691b-75f6-4af5-b454-3d67a7dc8176\">\n",
              "      <button class=\"colab-df-quickchart\" onclick=\"quickchart('df-e517691b-75f6-4af5-b454-3d67a7dc8176')\"\n",
              "                title=\"Suggest charts\"\n",
              "                style=\"display:none;\">\n",
              "\n",
              "<svg xmlns=\"http://www.w3.org/2000/svg\" height=\"24px\"viewBox=\"0 0 24 24\"\n",
              "     width=\"24px\">\n",
              "    <g>\n",
              "        <path d=\"M19 3H5c-1.1 0-2 .9-2 2v14c0 1.1.9 2 2 2h14c1.1 0 2-.9 2-2V5c0-1.1-.9-2-2-2zM9 17H7v-7h2v7zm4 0h-2V7h2v10zm4 0h-2v-4h2v4z\"/>\n",
              "    </g>\n",
              "</svg>\n",
              "      </button>\n",
              "\n",
              "<style>\n",
              "  .colab-df-quickchart {\n",
              "      --bg-color: #E8F0FE;\n",
              "      --fill-color: #1967D2;\n",
              "      --hover-bg-color: #E2EBFA;\n",
              "      --hover-fill-color: #174EA6;\n",
              "      --disabled-fill-color: #AAA;\n",
              "      --disabled-bg-color: #DDD;\n",
              "  }\n",
              "\n",
              "  [theme=dark] .colab-df-quickchart {\n",
              "      --bg-color: #3B4455;\n",
              "      --fill-color: #D2E3FC;\n",
              "      --hover-bg-color: #434B5C;\n",
              "      --hover-fill-color: #FFFFFF;\n",
              "      --disabled-bg-color: #3B4455;\n",
              "      --disabled-fill-color: #666;\n",
              "  }\n",
              "\n",
              "  .colab-df-quickchart {\n",
              "    background-color: var(--bg-color);\n",
              "    border: none;\n",
              "    border-radius: 50%;\n",
              "    cursor: pointer;\n",
              "    display: none;\n",
              "    fill: var(--fill-color);\n",
              "    height: 32px;\n",
              "    padding: 0;\n",
              "    width: 32px;\n",
              "  }\n",
              "\n",
              "  .colab-df-quickchart:hover {\n",
              "    background-color: var(--hover-bg-color);\n",
              "    box-shadow: 0 1px 2px rgba(60, 64, 67, 0.3), 0 1px 3px 1px rgba(60, 64, 67, 0.15);\n",
              "    fill: var(--button-hover-fill-color);\n",
              "  }\n",
              "\n",
              "  .colab-df-quickchart-complete:disabled,\n",
              "  .colab-df-quickchart-complete:disabled:hover {\n",
              "    background-color: var(--disabled-bg-color);\n",
              "    fill: var(--disabled-fill-color);\n",
              "    box-shadow: none;\n",
              "  }\n",
              "\n",
              "  .colab-df-spinner {\n",
              "    border: 2px solid var(--fill-color);\n",
              "    border-color: transparent;\n",
              "    border-bottom-color: var(--fill-color);\n",
              "    animation:\n",
              "      spin 1s steps(1) infinite;\n",
              "  }\n",
              "\n",
              "  @keyframes spin {\n",
              "    0% {\n",
              "      border-color: transparent;\n",
              "      border-bottom-color: var(--fill-color);\n",
              "      border-left-color: var(--fill-color);\n",
              "    }\n",
              "    20% {\n",
              "      border-color: transparent;\n",
              "      border-left-color: var(--fill-color);\n",
              "      border-top-color: var(--fill-color);\n",
              "    }\n",
              "    30% {\n",
              "      border-color: transparent;\n",
              "      border-left-color: var(--fill-color);\n",
              "      border-top-color: var(--fill-color);\n",
              "      border-right-color: var(--fill-color);\n",
              "    }\n",
              "    40% {\n",
              "      border-color: transparent;\n",
              "      border-right-color: var(--fill-color);\n",
              "      border-top-color: var(--fill-color);\n",
              "    }\n",
              "    60% {\n",
              "      border-color: transparent;\n",
              "      border-right-color: var(--fill-color);\n",
              "    }\n",
              "    80% {\n",
              "      border-color: transparent;\n",
              "      border-right-color: var(--fill-color);\n",
              "      border-bottom-color: var(--fill-color);\n",
              "    }\n",
              "    90% {\n",
              "      border-color: transparent;\n",
              "      border-bottom-color: var(--fill-color);\n",
              "    }\n",
              "  }\n",
              "</style>\n",
              "\n",
              "      <script>\n",
              "        async function quickchart(key) {\n",
              "          const quickchartButtonEl =\n",
              "            document.querySelector('#' + key + ' button');\n",
              "          quickchartButtonEl.disabled = true;  // To prevent multiple clicks.\n",
              "          quickchartButtonEl.classList.add('colab-df-spinner');\n",
              "          try {\n",
              "            const charts = await google.colab.kernel.invokeFunction(\n",
              "                'suggestCharts', [key], {});\n",
              "          } catch (error) {\n",
              "            console.error('Error during call to suggestCharts:', error);\n",
              "          }\n",
              "          quickchartButtonEl.classList.remove('colab-df-spinner');\n",
              "          quickchartButtonEl.classList.add('colab-df-quickchart-complete');\n",
              "        }\n",
              "        (() => {\n",
              "          let quickchartButtonEl =\n",
              "            document.querySelector('#df-e517691b-75f6-4af5-b454-3d67a7dc8176 button');\n",
              "          quickchartButtonEl.style.display =\n",
              "            google.colab.kernel.accessAllowed ? 'block' : 'none';\n",
              "        })();\n",
              "      </script>\n",
              "    </div>\n",
              "\n",
              "  <div id=\"id_0a25cb9e-ea68-4b7f-8bb4-64494900772b\">\n",
              "    <style>\n",
              "      .colab-df-generate {\n",
              "        background-color: #E8F0FE;\n",
              "        border: none;\n",
              "        border-radius: 50%;\n",
              "        cursor: pointer;\n",
              "        display: none;\n",
              "        fill: #1967D2;\n",
              "        height: 32px;\n",
              "        padding: 0 0 0 0;\n",
              "        width: 32px;\n",
              "      }\n",
              "\n",
              "      .colab-df-generate:hover {\n",
              "        background-color: #E2EBFA;\n",
              "        box-shadow: 0px 1px 2px rgba(60, 64, 67, 0.3), 0px 1px 3px 1px rgba(60, 64, 67, 0.15);\n",
              "        fill: #174EA6;\n",
              "      }\n",
              "\n",
              "      [theme=dark] .colab-df-generate {\n",
              "        background-color: #3B4455;\n",
              "        fill: #D2E3FC;\n",
              "      }\n",
              "\n",
              "      [theme=dark] .colab-df-generate:hover {\n",
              "        background-color: #434B5C;\n",
              "        box-shadow: 0px 1px 3px 1px rgba(0, 0, 0, 0.15);\n",
              "        filter: drop-shadow(0px 1px 2px rgba(0, 0, 0, 0.3));\n",
              "        fill: #FFFFFF;\n",
              "      }\n",
              "    </style>\n",
              "    <button class=\"colab-df-generate\" onclick=\"generateWithVariable('metrics_df')\"\n",
              "            title=\"Generate code using this dataframe.\"\n",
              "            style=\"display:none;\">\n",
              "\n",
              "  <svg xmlns=\"http://www.w3.org/2000/svg\" height=\"24px\"viewBox=\"0 0 24 24\"\n",
              "       width=\"24px\">\n",
              "    <path d=\"M7,19H8.4L18.45,9,17,7.55,7,17.6ZM5,21V16.75L18.45,3.32a2,2,0,0,1,2.83,0l1.4,1.43a1.91,1.91,0,0,1,.58,1.4,1.91,1.91,0,0,1-.58,1.4L9.25,21ZM18.45,9,17,7.55Zm-12,3A5.31,5.31,0,0,0,4.9,8.1,5.31,5.31,0,0,0,1,6.5,5.31,5.31,0,0,0,4.9,4.9,5.31,5.31,0,0,0,6.5,1,5.31,5.31,0,0,0,8.1,4.9,5.31,5.31,0,0,0,12,6.5,5.46,5.46,0,0,0,6.5,12Z\"/>\n",
              "  </svg>\n",
              "    </button>\n",
              "    <script>\n",
              "      (() => {\n",
              "      const buttonEl =\n",
              "        document.querySelector('#id_0a25cb9e-ea68-4b7f-8bb4-64494900772b button.colab-df-generate');\n",
              "      buttonEl.style.display =\n",
              "        google.colab.kernel.accessAllowed ? 'block' : 'none';\n",
              "\n",
              "      buttonEl.onclick = () => {\n",
              "        google.colab.notebook.generateWithVariable('metrics_df');\n",
              "      }\n",
              "      })();\n",
              "    </script>\n",
              "  </div>\n",
              "\n",
              "    </div>\n",
              "  </div>\n"
            ],
            "application/vnd.google.colaboratory.intrinsic+json": {
              "type": "dataframe",
              "variable_name": "metrics_df",
              "summary": "{\n  \"name\": \"metrics_df\",\n  \"rows\": 3,\n  \"fields\": [\n    {\n      \"column\": \"Model\",\n      \"properties\": {\n        \"dtype\": \"string\",\n        \"num_unique_values\": 3,\n        \"samples\": [\n          \"Dyaniel Model\",\n          \"Joseph Model\",\n          \"Lee Guo Xi Model\"\n        ],\n        \"semantic_type\": \"\",\n        \"description\": \"\"\n      }\n    },\n    {\n      \"column\": \"Accuracy\",\n      \"properties\": {\n        \"dtype\": \"number\",\n        \"std\": 0.03269739167257021,\n        \"min\": 0.9195100612423447,\n        \"max\": 0.9846894138232721,\n        \"num_unique_values\": 3,\n        \"samples\": [\n          0.9846894138232721,\n          0.9566929133858267,\n          0.9195100612423447\n        ],\n        \"semantic_type\": \"\",\n        \"description\": \"\"\n      }\n    },\n    {\n      \"column\": \"Precision\",\n      \"properties\": {\n        \"dtype\": \"number\",\n        \"std\": 0.030593676385652347,\n        \"min\": 0.9238845144356955,\n        \"max\": 0.98467327231822,\n        \"num_unique_values\": 3,\n        \"samples\": [\n          0.98467327231822,\n          0.9603174603174603,\n          0.9238845144356955\n        ],\n        \"semantic_type\": \"\",\n        \"description\": \"\"\n      }\n    },\n    {\n      \"column\": \"Recall\",\n      \"properties\": {\n        \"dtype\": \"number\",\n        \"std\": 0.030415297590964185,\n        \"min\": 0.9238845144356955,\n        \"max\": 0.9846894138232721,\n        \"num_unique_values\": 3,\n        \"samples\": [\n          0.9846894138232721,\n          0.952755905511811,\n          0.9238845144356955\n        ],\n        \"semantic_type\": \"\",\n        \"description\": \"\"\n      }\n    },\n    {\n      \"column\": \"F1-Score\",\n      \"properties\": {\n        \"dtype\": \"number\",\n        \"std\": 0.032438216065312685,\n        \"min\": 0.9198606271777003,\n        \"max\": 0.984545101405835,\n        \"num_unique_values\": 3,\n        \"samples\": [\n          0.984545101405835,\n          0.9565217391304348,\n          0.9198606271777003\n        ],\n        \"semantic_type\": \"\",\n        \"description\": \"\"\n      }\n    },\n    {\n      \"column\": \"Training Time (min)\",\n      \"properties\": {\n        \"dtype\": \"number\",\n        \"std\": 3.3243604557869473,\n        \"min\": 3.3758,\n        \"max\": 9.375,\n        \"num_unique_values\": 3,\n        \"samples\": [\n          3.3758,\n          3.8932,\n          9.375\n        ],\n        \"semantic_type\": \"\",\n        \"description\": \"\"\n      }\n    },\n    {\n      \"column\": \"Prediction Time (ms)\",\n      \"properties\": {\n        \"dtype\": \"number\",\n        \"std\": 17.65259941264553,\n        \"min\": 2.14,\n        \"max\": 32.7787,\n        \"num_unique_values\": 3,\n        \"samples\": [\n          32.7787,\n          2.14,\n          2.2674\n        ],\n        \"semantic_type\": \"\",\n        \"description\": \"\"\n      }\n    }\n  ]\n}"
            }
          },
          "metadata": {}
        }
      ]
    },
    {
      "cell_type": "markdown",
      "metadata": {
        "id": "3bb26fd0"
      },
      "source": [
        "# Extracting Weights for Keras Models (RNN, CNN, LSTM)"
      ]
    },
    {
      "cell_type": "code",
      "metadata": {
        "colab": {
          "base_uri": "https://localhost:8080/"
        },
        "id": "a956c465",
        "outputId": "8972184c-406d-4f17-8764-b353d418fdd0"
      },
      "source": [
        "# # Extract Dyaniel RNN Model\n",
        "# RNN_model.save_weights('rnn_weights.weights.h5')\n",
        "# print(\"RNN model weights saved to 'rnn_weights.weights.h5'\")\n",
        "\n",
        "# # Extract Joseph CNN Model\n",
        "# CNN_model.save_weights('cnn_weights.weights.h5')\n",
        "# print(\"CNN model weights saved to 'cnn_weights.weights.h5'\")\n",
        "\n",
        "# # Extract GuoXi LSTM Model\n",
        "# model.save_weights('lstm_weights.weights.h5')\n",
        "# print(\"LSTM model weights saved to 'lstm_weights.weights.h5'\")"
      ],
      "execution_count": null,
      "outputs": [
        {
          "output_type": "stream",
          "name": "stdout",
          "text": [
            "RNN model weights saved to 'rnn_weights.weights.h5'\n",
            "CNN model weights saved to 'cnn_weights.weights.h5'\n",
            "LSTM model weights saved to 'lstm_weights.weights.h5'\n"
          ]
        }
      ]
    }
  ]
}