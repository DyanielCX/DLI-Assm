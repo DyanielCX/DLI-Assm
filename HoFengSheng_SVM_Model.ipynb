{
  "cells": [
    {
      "cell_type": "markdown",
      "metadata": {
        "id": "view-in-github",
        "colab_type": "text"
      },
      "source": [
        "<a href=\"https://colab.research.google.com/github/DyanielCX/DLI-Assm/blob/main/HoFengSheng_SVM_Model.ipynb\" target=\"_parent\"><img src=\"https://colab.research.google.com/assets/colab-badge.svg\" alt=\"Open In Colab\"/></a>"
      ]
    },
    {
      "cell_type": "markdown",
      "metadata": {
        "id": "Wf5KrEb6vrkR"
      },
      "source": []
    },
    {
      "cell_type": "markdown",
      "source": [
        "# 1. Import Dependencies"
      ],
      "metadata": {
        "id": "ppTMjNbxFxSE"
      }
    },
    {
      "cell_type": "code",
      "source": [
        "import time\n",
        "import pandas as pd\n",
        "import numpy as np\n",
        "import seaborn as sns\n",
        "import matplotlib.pyplot as plt\n",
        "import matplotlib.ticker as mtick\n",
        "from matplotlib import colormaps\n",
        "\n",
        "from sklearn.model_selection import train_test_split\n",
        "from sklearn.preprocessing import StandardScaler\n",
        "from sklearn.metrics import (\n",
        "    confusion_matrix, classification_report, roc_auc_score,\n",
        "    accuracy_score, precision_score, recall_score, f1_score,\n",
        "    roc_curve, precision_recall_curve, average_precision_score\n",
        ")\n",
        "from sklearn.svm import LinearSVC\n",
        "\n",
        "from tensorflow.keras.models import Model\n",
        "from tensorflow.keras.layers import Input, Embedding, Conv1D, GlobalMaxPooling1D, Dropout, Dense\n",
        "from tensorflow.keras.preprocessing.text import Tokenizer\n",
        "from tensorflow.keras.preprocessing.sequence import pad_sequences"
      ],
      "metadata": {
        "id": "ZFBuaF85Fzo-"
      },
      "execution_count": null,
      "outputs": []
    },
    {
      "cell_type": "markdown",
      "source": [
        "# 2. Load and Preprocess Dataset"
      ],
      "metadata": {
        "id": "KPN1cNOkSP_A"
      }
    },
    {
      "cell_type": "code",
      "source": [
        "github_csv_url = 'https://raw.githubusercontent.com/DyanielCX/DLI-Assm/refs/heads/main/dataset_B_05_2020_1.csv'\n",
        "df = pd.read_csv(github_csv_url)\n",
        "df['url'] = df['url'].str.lower()\n",
        "y = df['status'].values\n",
        "\n",
        "ml_features = df.drop(columns=['url', 'status'])\n",
        "urls = df['url'].values\n",
        "\n",
        "# Tokenize URLs (char level)\n",
        "tokenizer = Tokenizer(char_level=True)\n",
        "tokenizer.fit_on_texts(urls)\n",
        "url_seqs = tokenizer.texts_to_sequences(urls)\n",
        "X_url = pad_sequences(url_seqs, maxlen=200)\n",
        "vocab_size = len(tokenizer.word_index) + 1"
      ],
      "metadata": {
        "id": "1PGlrbH4SPun"
      },
      "execution_count": null,
      "outputs": []
    },
    {
      "cell_type": "markdown",
      "source": [
        "# 3. 🧠 Train CNN to Learn from URL"
      ],
      "metadata": {
        "id": "hCqlhZ4wnc6_"
      }
    },
    {
      "cell_type": "code",
      "source": [
        "train_start_time = time.time()\n",
        "\n",
        "# CNN architecture\n",
        "input_layer = Input(shape=(200,))\n",
        "embedding = Embedding(input_dim=vocab_size, output_dim=128)(input_layer)\n",
        "conv = Conv1D(filters=256, kernel_size=5, activation='relu')(embedding)\n",
        "drop = Dropout(0.3)(conv)\n",
        "pool = GlobalMaxPooling1D(name=\"cnn_features\")(drop)\n",
        "output_layer = Dense(1, activation='sigmoid')(pool)\n",
        "\n",
        "# Compile model\n",
        "CNN_model = Model(inputs=input_layer, outputs=output_layer)\n",
        "CNN_model.compile(optimizer='adam', loss='binary_crossentropy', metrics=['accuracy'])\n",
        "\n",
        "# Split for DL training only\n",
        "X_train_dl, X_test_dl, y_train_dl, y_test_dl = train_test_split(X_url, y, test_size=0.2, stratify=y, random_state=42)\n",
        "\n",
        "# Train CNN model\n",
        "CNN_model.fit(X_train_dl, y_train_dl, epochs=5, batch_size=128, validation_split=0.1, verbose=1)\n",
        "loss, acc = CNN_model.evaluate(X_test_dl, y_test_dl)\n",
        "print(f\"✅ CNN Accuracy: {round(acc * 100, 2)}%\")\n"
      ],
      "metadata": {
        "id": "CDQKmrqGmp07"
      },
      "execution_count": null,
      "outputs": []
    },
    {
      "cell_type": "markdown",
      "source": [
        " # 4. 📤 Extract CNN Features & Merge with ML Features"
      ],
      "metadata": {
        "id": "vDuG1id9m9o_"
      }
    },
    {
      "cell_type": "code",
      "source": [
        "# Create a feature extractor model that outputs from 'cnn_features' layer\n",
        "feature_extractor = Model(inputs=CNN_model.input,\n",
        "                          outputs=CNN_model.get_layer(\"cnn_features\").output)\n",
        "\n",
        "# Apply on all padded URL sequences to extract CNN features\n",
        "cnn_features = feature_extractor.predict(X_url)\n",
        "\n",
        "# Standardize ML numerical features\n",
        "scaler = StandardScaler()\n",
        "ml_scaled = scaler.fit_transform(ml_features)\n",
        "\n",
        "# Combine CNN features with numeric ML features\n",
        "X_combined = np.hstack([cnn_features, ml_scaled])\n"
      ],
      "metadata": {
        "id": "Fnxx0PLZmv-P"
      },
      "execution_count": null,
      "outputs": []
    },
    {
      "cell_type": "markdown",
      "source": [
        "# 5. 🤖 Train Final SVM Classifier"
      ],
      "metadata": {
        "id": "ZpEkcvk0myL1"
      }
    },
    {
      "cell_type": "code",
      "source": [
        "X_train, X_test, y_train, y_test = train_test_split(X_combined, y, test_size=0.2, stratify=y, random_state=42)\n",
        "\n",
        "svm_model = LinearSVC(\n",
        "    loss=\"squared_hinge\", penalty='l2', dual=True, max_iter=100000,\n",
        "    tol=1e-3, class_weight='balanced', C=1.0, random_state=42\n",
        ")\n",
        "\n",
        "svm_model.fit(X_train, y_train)"
      ],
      "metadata": {
        "id": "EPV9gOAdm4r2"
      },
      "execution_count": null,
      "outputs": []
    },
    {
      "cell_type": "markdown",
      "source": [
        "# 6. 📊 Evaluate Model"
      ],
      "metadata": {
        "id": "7ZiBRq3Ond9k"
      }
    },
    {
      "cell_type": "code",
      "source": [
        "predict_start_time = time.time()\n",
        "y_pred = svm_model.predict(X_test)\n",
        "predict_time = time.time() - predict_start_time\n",
        "train_time = time.time() - train_start_time\n",
        "\n",
        "y_scores = svm_model.decision_function(X_test)\n",
        "\n",
        "accuracy = accuracy_score(y_test, y_pred)\n",
        "precision = precision_score(y_test, y_pred)\n",
        "recall = recall_score(y_test, y_pred)\n",
        "f1 = f1_score(y_test, y_pred)\n",
        "roc_auc = roc_auc_score(y_test, y_scores)\n",
        "\n",
        "print(\"\\n📋 Classification Report:\\n\", classification_report(y_test, y_pred))\n",
        "print(f\"✅ Accuracy: {round(accuracy * 100, 2)}%\")\n",
        "print(f\"✅ Precision: {round(precision * 100, 2)}%\")\n",
        "print(f\"✅ Recall: {round(recall * 100, 2)}%\")\n",
        "print(f\"✅ F1-Score: {round(f1 * 100, 2)}%\")\n",
        "print(f\"✅ ROC AUC: {round(roc_auc * 100, 2)}%\")\n",
        "print(f\"⏱️ Training Time: {round(train_time / 60, 2)} minutes\")\n",
        "print(f\"⚡ Prediction Time: {round(predict_time * 1000, 2)} milliseconds\")\n",
        "\n",
        "# 🔷 Confusion Matrix\n",
        "cm = confusion_matrix(y_test, y_pred)\n",
        "plt.figure(figsize=(6, 5))\n",
        "sns.heatmap(cm, annot=True, fmt=\"d\", cmap=\"Blues\",\n",
        "            xticklabels=[\"Benign\", \"Phishing\"],\n",
        "            yticklabels=[\"Benign\", \"Phishing\"])\n",
        "plt.title(\"Confusion Matrix\")\n",
        "plt.xlabel(\"Predicted\")\n",
        "plt.ylabel(\"Actual\")\n",
        "plt.tight_layout()\n",
        "plt.show()\n"
      ],
      "metadata": {
        "id": "Lh7C4Utynlxh"
      },
      "execution_count": null,
      "outputs": []
    },
    {
      "cell_type": "markdown",
      "source": [
        "## 6.1 📈 ROC & PR Curve"
      ],
      "metadata": {
        "id": "IR_21Cnmnzzc"
      }
    },
    {
      "cell_type": "code",
      "source": [
        "# ROC Curve\n",
        "fpr, tpr, _ = roc_curve(y_test, y_scores)\n",
        "plt.figure(figsize=(6, 4))\n",
        "plt.plot(fpr, tpr, label=f'ROC AUC = {roc_auc:.2f}')\n",
        "plt.plot([0, 1], [0, 1], 'k--')\n",
        "plt.xlabel(\"False Positive Rate\")\n",
        "plt.ylabel(\"True Positive Rate\")\n",
        "plt.title(\"ROC Curve\")\n",
        "plt.grid(alpha=0.4)\n",
        "plt.legend()\n",
        "plt.tight_layout()\n",
        "plt.show()\n",
        "\n",
        "# PR Curve\n",
        "prec_vals, rec_vals, _ = precision_recall_curve(y_test, y_scores)\n",
        "avg_prec = average_precision_score(y_test, y_scores)\n",
        "plt.figure(figsize=(6, 4))\n",
        "plt.plot(rec_vals, prec_vals, label=f'Avg Precision = {avg_prec:.2f}')\n",
        "plt.xlabel(\"Recall\")\n",
        "plt.ylabel(\"Precision\")\n",
        "plt.title(\"Precision-Recall Curve\")\n",
        "plt.grid(alpha=0.4)\n",
        "plt.legend()\n",
        "plt.tight_layout()\n",
        "plt.show()"
      ],
      "metadata": {
        "id": "E86borb2n5vY"
      },
      "execution_count": null,
      "outputs": []
    }
  ],
  "metadata": {
    "colab": {
      "provenance": [],
      "include_colab_link": true
    },
    "kernelspec": {
      "display_name": "Python 3",
      "name": "python3"
    }
  },
  "nbformat": 4,
  "nbformat_minor": 0
}